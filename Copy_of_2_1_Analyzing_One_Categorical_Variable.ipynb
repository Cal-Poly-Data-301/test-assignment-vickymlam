{
  "nbformat": 4,
  "nbformat_minor": 0,
  "metadata": {
    "kernelspec": {
      "display_name": "Python 3",
      "language": "python",
      "name": "python3"
    },
    "language_info": {
      "codemirror_mode": {
        "name": "ipython",
        "version": 3
      },
      "file_extension": ".py",
      "mimetype": "text/x-python",
      "name": "python",
      "nbconvert_exporter": "python",
      "pygments_lexer": "ipython3",
      "version": "3.6.8"
    },
    "colab": {
      "name": "Copy of 2.1 Analyzing One Categorical Variable.ipynb",
      "provenance": [],
      "collapsed_sections": [],
      "include_colab_link": true
    }
  },
  "cells": [
    {
      "cell_type": "markdown",
      "metadata": {
        "id": "view-in-github",
        "colab_type": "text"
      },
      "source": [
        "<a href=\"https://colab.research.google.com/github/vickymlam/test-assignment-vickymlam/blob/main/Copy_of_2_1_Analyzing_One_Categorical_Variable.ipynb\" target=\"_parent\"><img src=\"https://colab.research.google.com/assets/colab-badge.svg\" alt=\"Open In Colab\"/></a>"
      ]
    },
    {
      "cell_type": "markdown",
      "metadata": {
        "id": "0bNZijfPJtYw"
      },
      "source": [
        "Recall from Chapter 1 that a **categorical variable** is a variable that can take on one of a limited set of values (which are called _levels_). In this chapter, we will discuss ways to analyze categorical variables. Throughout this chapter, we use the Titanic data set as a working example. This data set contains information about all of the people who were aboard the RMS Titanic when it sank in 1912, including both passengers and crew. Let's start by reading in this data set."
      ]
    },
    {
      "cell_type": "code",
      "metadata": {
        "id": "_YFx6GgqJtYz",
        "colab": {
          "base_uri": "https://localhost:8080/",
          "height": 419
        },
        "outputId": "1ac2c307-5a8c-4e51-e3b2-67ff81f340a2"
      },
      "source": [
        "import pandas as pd\n",
        "\n",
        "data_dir = \"http://dlsun.github.io/pods/data/\"\n",
        "df_titanic = pd.read_csv(data_dir + \"titanic.csv\")\n",
        "df_titanic"
      ],
      "execution_count": null,
      "outputs": [
        {
          "output_type": "execute_result",
          "data": {
            "text/html": [
              "\n",
              "  <div id=\"df-5a2a43eb-4174-451a-ab0b-46e9dc5a5f4b\">\n",
              "    <div class=\"colab-df-container\">\n",
              "      <div>\n",
              "<style scoped>\n",
              "    .dataframe tbody tr th:only-of-type {\n",
              "        vertical-align: middle;\n",
              "    }\n",
              "\n",
              "    .dataframe tbody tr th {\n",
              "        vertical-align: top;\n",
              "    }\n",
              "\n",
              "    .dataframe thead th {\n",
              "        text-align: right;\n",
              "    }\n",
              "</style>\n",
              "<table border=\"1\" class=\"dataframe\">\n",
              "  <thead>\n",
              "    <tr style=\"text-align: right;\">\n",
              "      <th></th>\n",
              "      <th>name</th>\n",
              "      <th>gender</th>\n",
              "      <th>age</th>\n",
              "      <th>class</th>\n",
              "      <th>embarked</th>\n",
              "      <th>country</th>\n",
              "      <th>ticketno</th>\n",
              "      <th>fare</th>\n",
              "      <th>survived</th>\n",
              "    </tr>\n",
              "  </thead>\n",
              "  <tbody>\n",
              "    <tr>\n",
              "      <th>0</th>\n",
              "      <td>Abbing, Mr. Anthony</td>\n",
              "      <td>male</td>\n",
              "      <td>42.0</td>\n",
              "      <td>3rd</td>\n",
              "      <td>S</td>\n",
              "      <td>United States</td>\n",
              "      <td>5547.0</td>\n",
              "      <td>7.11</td>\n",
              "      <td>0</td>\n",
              "    </tr>\n",
              "    <tr>\n",
              "      <th>1</th>\n",
              "      <td>Abbott, Mr. Eugene Joseph</td>\n",
              "      <td>male</td>\n",
              "      <td>13.0</td>\n",
              "      <td>3rd</td>\n",
              "      <td>S</td>\n",
              "      <td>United States</td>\n",
              "      <td>2673.0</td>\n",
              "      <td>20.05</td>\n",
              "      <td>0</td>\n",
              "    </tr>\n",
              "    <tr>\n",
              "      <th>2</th>\n",
              "      <td>Abbott, Mr. Rossmore Edward</td>\n",
              "      <td>male</td>\n",
              "      <td>16.0</td>\n",
              "      <td>3rd</td>\n",
              "      <td>S</td>\n",
              "      <td>United States</td>\n",
              "      <td>2673.0</td>\n",
              "      <td>20.05</td>\n",
              "      <td>0</td>\n",
              "    </tr>\n",
              "    <tr>\n",
              "      <th>3</th>\n",
              "      <td>Abbott, Mrs. Rhoda Mary 'Rosa'</td>\n",
              "      <td>female</td>\n",
              "      <td>39.0</td>\n",
              "      <td>3rd</td>\n",
              "      <td>S</td>\n",
              "      <td>England</td>\n",
              "      <td>2673.0</td>\n",
              "      <td>20.05</td>\n",
              "      <td>1</td>\n",
              "    </tr>\n",
              "    <tr>\n",
              "      <th>4</th>\n",
              "      <td>Abelseth, Miss. Karen Marie</td>\n",
              "      <td>female</td>\n",
              "      <td>16.0</td>\n",
              "      <td>3rd</td>\n",
              "      <td>S</td>\n",
              "      <td>Norway</td>\n",
              "      <td>348125.0</td>\n",
              "      <td>7.13</td>\n",
              "      <td>1</td>\n",
              "    </tr>\n",
              "    <tr>\n",
              "      <th>...</th>\n",
              "      <td>...</td>\n",
              "      <td>...</td>\n",
              "      <td>...</td>\n",
              "      <td>...</td>\n",
              "      <td>...</td>\n",
              "      <td>...</td>\n",
              "      <td>...</td>\n",
              "      <td>...</td>\n",
              "      <td>...</td>\n",
              "    </tr>\n",
              "    <tr>\n",
              "      <th>2202</th>\n",
              "      <td>Wynn, Mr. Walter</td>\n",
              "      <td>male</td>\n",
              "      <td>41.0</td>\n",
              "      <td>deck crew</td>\n",
              "      <td>B</td>\n",
              "      <td>England</td>\n",
              "      <td>NaN</td>\n",
              "      <td>NaN</td>\n",
              "      <td>1</td>\n",
              "    </tr>\n",
              "    <tr>\n",
              "      <th>2203</th>\n",
              "      <td>Yearsley, Mr. Harry</td>\n",
              "      <td>male</td>\n",
              "      <td>40.0</td>\n",
              "      <td>victualling crew</td>\n",
              "      <td>S</td>\n",
              "      <td>England</td>\n",
              "      <td>NaN</td>\n",
              "      <td>NaN</td>\n",
              "      <td>1</td>\n",
              "    </tr>\n",
              "    <tr>\n",
              "      <th>2204</th>\n",
              "      <td>Young, Mr. Francis James</td>\n",
              "      <td>male</td>\n",
              "      <td>32.0</td>\n",
              "      <td>engineering crew</td>\n",
              "      <td>S</td>\n",
              "      <td>England</td>\n",
              "      <td>NaN</td>\n",
              "      <td>NaN</td>\n",
              "      <td>0</td>\n",
              "    </tr>\n",
              "    <tr>\n",
              "      <th>2205</th>\n",
              "      <td>Zanetti, Sig. Minio</td>\n",
              "      <td>male</td>\n",
              "      <td>20.0</td>\n",
              "      <td>restaurant staff</td>\n",
              "      <td>S</td>\n",
              "      <td>England</td>\n",
              "      <td>NaN</td>\n",
              "      <td>NaN</td>\n",
              "      <td>0</td>\n",
              "    </tr>\n",
              "    <tr>\n",
              "      <th>2206</th>\n",
              "      <td>Zarracchi, Sig. L.</td>\n",
              "      <td>male</td>\n",
              "      <td>26.0</td>\n",
              "      <td>restaurant staff</td>\n",
              "      <td>S</td>\n",
              "      <td>England</td>\n",
              "      <td>NaN</td>\n",
              "      <td>NaN</td>\n",
              "      <td>0</td>\n",
              "    </tr>\n",
              "  </tbody>\n",
              "</table>\n",
              "<p>2207 rows × 9 columns</p>\n",
              "</div>\n",
              "      <button class=\"colab-df-convert\" onclick=\"convertToInteractive('df-5a2a43eb-4174-451a-ab0b-46e9dc5a5f4b')\"\n",
              "              title=\"Convert this dataframe to an interactive table.\"\n",
              "              style=\"display:none;\">\n",
              "        \n",
              "  <svg xmlns=\"http://www.w3.org/2000/svg\" height=\"24px\"viewBox=\"0 0 24 24\"\n",
              "       width=\"24px\">\n",
              "    <path d=\"M0 0h24v24H0V0z\" fill=\"none\"/>\n",
              "    <path d=\"M18.56 5.44l.94 2.06.94-2.06 2.06-.94-2.06-.94-.94-2.06-.94 2.06-2.06.94zm-11 1L8.5 8.5l.94-2.06 2.06-.94-2.06-.94L8.5 2.5l-.94 2.06-2.06.94zm10 10l.94 2.06.94-2.06 2.06-.94-2.06-.94-.94-2.06-.94 2.06-2.06.94z\"/><path d=\"M17.41 7.96l-1.37-1.37c-.4-.4-.92-.59-1.43-.59-.52 0-1.04.2-1.43.59L10.3 9.45l-7.72 7.72c-.78.78-.78 2.05 0 2.83L4 21.41c.39.39.9.59 1.41.59.51 0 1.02-.2 1.41-.59l7.78-7.78 2.81-2.81c.8-.78.8-2.07 0-2.86zM5.41 20L4 18.59l7.72-7.72 1.47 1.35L5.41 20z\"/>\n",
              "  </svg>\n",
              "      </button>\n",
              "      \n",
              "  <style>\n",
              "    .colab-df-container {\n",
              "      display:flex;\n",
              "      flex-wrap:wrap;\n",
              "      gap: 12px;\n",
              "    }\n",
              "\n",
              "    .colab-df-convert {\n",
              "      background-color: #E8F0FE;\n",
              "      border: none;\n",
              "      border-radius: 50%;\n",
              "      cursor: pointer;\n",
              "      display: none;\n",
              "      fill: #1967D2;\n",
              "      height: 32px;\n",
              "      padding: 0 0 0 0;\n",
              "      width: 32px;\n",
              "    }\n",
              "\n",
              "    .colab-df-convert:hover {\n",
              "      background-color: #E2EBFA;\n",
              "      box-shadow: 0px 1px 2px rgba(60, 64, 67, 0.3), 0px 1px 3px 1px rgba(60, 64, 67, 0.15);\n",
              "      fill: #174EA6;\n",
              "    }\n",
              "\n",
              "    [theme=dark] .colab-df-convert {\n",
              "      background-color: #3B4455;\n",
              "      fill: #D2E3FC;\n",
              "    }\n",
              "\n",
              "    [theme=dark] .colab-df-convert:hover {\n",
              "      background-color: #434B5C;\n",
              "      box-shadow: 0px 1px 3px 1px rgba(0, 0, 0, 0.15);\n",
              "      filter: drop-shadow(0px 1px 2px rgba(0, 0, 0, 0.3));\n",
              "      fill: #FFFFFF;\n",
              "    }\n",
              "  </style>\n",
              "\n",
              "      <script>\n",
              "        const buttonEl =\n",
              "          document.querySelector('#df-5a2a43eb-4174-451a-ab0b-46e9dc5a5f4b button.colab-df-convert');\n",
              "        buttonEl.style.display =\n",
              "          google.colab.kernel.accessAllowed ? 'block' : 'none';\n",
              "\n",
              "        async function convertToInteractive(key) {\n",
              "          const element = document.querySelector('#df-5a2a43eb-4174-451a-ab0b-46e9dc5a5f4b');\n",
              "          const dataTable =\n",
              "            await google.colab.kernel.invokeFunction('convertToInteractive',\n",
              "                                                     [key], {});\n",
              "          if (!dataTable) return;\n",
              "\n",
              "          const docLinkHtml = 'Like what you see? Visit the ' +\n",
              "            '<a target=\"_blank\" href=https://colab.research.google.com/notebooks/data_table.ipynb>data table notebook</a>'\n",
              "            + ' to learn more about interactive tables.';\n",
              "          element.innerHTML = '';\n",
              "          dataTable['output_type'] = 'display_data';\n",
              "          await google.colab.output.renderOutput(dataTable, element);\n",
              "          const docLink = document.createElement('div');\n",
              "          docLink.innerHTML = docLinkHtml;\n",
              "          element.appendChild(docLink);\n",
              "        }\n",
              "      </script>\n",
              "    </div>\n",
              "  </div>\n",
              "  "
            ],
            "text/plain": [
              "                                name  gender   age  ...  ticketno   fare survived\n",
              "0                Abbing, Mr. Anthony    male  42.0  ...    5547.0   7.11        0\n",
              "1          Abbott, Mr. Eugene Joseph    male  13.0  ...    2673.0  20.05        0\n",
              "2        Abbott, Mr. Rossmore Edward    male  16.0  ...    2673.0  20.05        0\n",
              "3     Abbott, Mrs. Rhoda Mary 'Rosa'  female  39.0  ...    2673.0  20.05        1\n",
              "4        Abelseth, Miss. Karen Marie  female  16.0  ...  348125.0   7.13        1\n",
              "...                              ...     ...   ...  ...       ...    ...      ...\n",
              "2202                Wynn, Mr. Walter    male  41.0  ...       NaN    NaN        1\n",
              "2203             Yearsley, Mr. Harry    male  40.0  ...       NaN    NaN        1\n",
              "2204        Young, Mr. Francis James    male  32.0  ...       NaN    NaN        0\n",
              "2205             Zanetti, Sig. Minio    male  20.0  ...       NaN    NaN        0\n",
              "2206              Zarracchi, Sig. L.    male  26.0  ...       NaN    NaN        0\n",
              "\n",
              "[2207 rows x 9 columns]"
            ]
          },
          "metadata": {},
          "execution_count": 1
        }
      ]
    },
    {
      "cell_type": "markdown",
      "metadata": {
        "id": "c6RRWPfWJtY5"
      },
      "source": [
        "The categorical variables in this data set are:\n",
        "- `gender` (male or female)\n",
        "- `class`: what class they were in (1st, 2nd, or 3rd) or what type of crew member they were\n",
        "- `embarked`: where they embarked (Belfast, Southampton, Cherbourg, or Queenstown)\n",
        "- `country`: their country of origin\n",
        "- `ticketno`: the ticket number\n",
        "- `survived`: whether or not they survived the disaster\n",
        "\n",
        "Note that `age` and `fare` are quantitative variables. It is tempting to consider `name` a categorical variable, but it is not, since (almost) every person has a unique name. In order for a variable to be categorical, it must take on a _limited_ set of values, ideally with each level appearing multiple times in the data set. Otherwise, the analyses that we describe in this chapter will not be very meaningful."
      ]
    },
    {
      "cell_type": "markdown",
      "metadata": {
        "id": "XRBPQWpZJtZm"
      },
      "source": [
        "# Analyzing One Categorical Variable\n",
        "\n",
        "In this lesson, we focus on a single categorical variable. For a high-level summary of a categorical variable, we can use the `.describe()` command. Note that the behavior of `.describe()` will change, depending on whether `pandas` thinks that the variable is quantitative or categorical, which is why it is important to cast categorical variables to the right type, as we discussed in the previous chapter."
      ]
    },
    {
      "cell_type": "code",
      "metadata": {
        "id": "nru7HFtNJtZn",
        "colab": {
          "base_uri": "https://localhost:8080/"
        },
        "outputId": "57d8cbab-23f3-4c9f-c122-d1227b4109b6"
      },
      "source": [
        "df_titanic[\"class\"].describe()"
      ],
      "execution_count": null,
      "outputs": [
        {
          "output_type": "execute_result",
          "data": {
            "text/plain": [
              "count     2207\n",
              "unique       7\n",
              "top        3rd\n",
              "freq       709\n",
              "Name: class, dtype: object"
            ]
          },
          "metadata": {},
          "execution_count": 2
        }
      ]
    },
    {
      "cell_type": "markdown",
      "metadata": {
        "id": "AUwJjfTQJtZt"
      },
      "source": [
        "To completely summarize a single categorical variable, we report the number of times each level appeared, or its **frequency**."
      ]
    },
    {
      "cell_type": "code",
      "metadata": {
        "id": "E4kcGK9TJtZt",
        "colab": {
          "base_uri": "https://localhost:8080/"
        },
        "outputId": "c43166be-cfab-4475-9bbb-aec4e99a0266"
      },
      "source": [
        "class_counts = df_titanic[\"class\"].value_counts()\n",
        "class_counts"
      ],
      "execution_count": null,
      "outputs": [
        {
          "output_type": "execute_result",
          "data": {
            "text/plain": [
              "3rd                 709\n",
              "victualling crew    431\n",
              "1st                 324\n",
              "engineering crew    324\n",
              "2nd                 284\n",
              "restaurant staff     69\n",
              "deck crew            66\n",
              "Name: class, dtype: int64"
            ]
          },
          "metadata": {},
          "execution_count": 3
        }
      ]
    },
    {
      "cell_type": "markdown",
      "metadata": {
        "id": "Bmk5Y7zQJtZw"
      },
      "source": [
        "Notice that the levels are sorted in decreasing order of frequency by default. We can also report the levels in the order they appear in the data set..."
      ]
    },
    {
      "cell_type": "code",
      "metadata": {
        "id": "yEK0-PecJtZx",
        "colab": {
          "base_uri": "https://localhost:8080/"
        },
        "outputId": "4ca837d8-42db-4b78-9f9f-5774d6902956"
      },
      "source": [
        "df_titanic[\"class\"].value_counts(sort=False)"
      ],
      "execution_count": null,
      "outputs": [
        {
          "output_type": "execute_result",
          "data": {
            "text/plain": [
              "engineering crew    324\n",
              "restaurant staff     69\n",
              "victualling crew    431\n",
              "3rd                 709\n",
              "deck crew            66\n",
              "2nd                 284\n",
              "1st                 324\n",
              "Name: class, dtype: int64"
            ]
          },
          "metadata": {},
          "execution_count": 4
        }
      ]
    },
    {
      "cell_type": "markdown",
      "metadata": {
        "id": "7P-TqJvrJtZ0"
      },
      "source": [
        "...or in alphabetical order, by sorting the index:"
      ]
    },
    {
      "cell_type": "code",
      "metadata": {
        "id": "w1jjt1nuJtZ0",
        "colab": {
          "base_uri": "https://localhost:8080/"
        },
        "outputId": "934a9241-adde-4d04-ce9a-1293b161f0db"
      },
      "source": [
        "class_counts.sort_index()"
      ],
      "execution_count": null,
      "outputs": [
        {
          "output_type": "execute_result",
          "data": {
            "text/plain": [
              "1st                 324\n",
              "2nd                 284\n",
              "3rd                 709\n",
              "deck crew            66\n",
              "engineering crew    324\n",
              "restaurant staff     69\n",
              "victualling crew    431\n",
              "Name: class, dtype: int64"
            ]
          },
          "metadata": {},
          "execution_count": 5
        }
      ]
    },
    {
      "cell_type": "markdown",
      "metadata": {
        "id": "kCTkd_7OJtZ3"
      },
      "source": [
        "Note that this produces a _new_ `Series` with the index sorted. It does not sort the original `Series` `class_counts`. To sort the original series, we need to specify that the sorting should be done in place, just like we did for `.set_index()` in Chapter 1."
      ]
    },
    {
      "cell_type": "code",
      "metadata": {
        "id": "6tMY5S4CJtZ3",
        "colab": {
          "base_uri": "https://localhost:8080/"
        },
        "outputId": "1532cf44-187e-43c6-d6bb-66cd3be1b153"
      },
      "source": [
        "class_counts.sort_index(inplace=True)\n",
        "class_counts"
      ],
      "execution_count": null,
      "outputs": [
        {
          "output_type": "execute_result",
          "data": {
            "text/plain": [
              "1st                 324\n",
              "2nd                 284\n",
              "3rd                 709\n",
              "deck crew            66\n",
              "engineering crew    324\n",
              "restaurant staff     69\n",
              "victualling crew    431\n",
              "Name: class, dtype: int64"
            ]
          },
          "metadata": {},
          "execution_count": 6
        }
      ]
    },
    {
      "cell_type": "markdown",
      "metadata": {
        "id": "HBFyIJmYJtZ8"
      },
      "source": [
        "Any other order would require selecting the levels manually, in the desired order."
      ]
    },
    {
      "cell_type": "code",
      "metadata": {
        "id": "Q7vi4FgIJtZ9",
        "colab": {
          "base_uri": "https://localhost:8080/"
        },
        "outputId": "290b49b2-6f33-4314-ddcc-c47b4bb08b26"
      },
      "source": [
        "class_counts.loc[\n",
        "    [\"1st\", \"2nd\", \"3rd\",\n",
        "     \"deck crew\", \"engineering crew\", \"victualling crew\",\n",
        "     \"restaurant staff\"]\n",
        "]"
      ],
      "execution_count": null,
      "outputs": [
        {
          "output_type": "execute_result",
          "data": {
            "text/plain": [
              "1st                 324\n",
              "2nd                 284\n",
              "3rd                 709\n",
              "deck crew            66\n",
              "engineering crew    324\n",
              "victualling crew    431\n",
              "restaurant staff     69\n",
              "Name: class, dtype: int64"
            ]
          },
          "metadata": {},
          "execution_count": 7
        }
      ]
    },
    {
      "cell_type": "markdown",
      "metadata": {
        "id": "IKNQM_UxJtZ_"
      },
      "source": [
        "This information can be visualized using a **bar chart**."
      ]
    },
    {
      "cell_type": "code",
      "metadata": {
        "id": "1Pr1BpI9JtZ_",
        "colab": {
          "base_uri": "https://localhost:8080/",
          "height": 359
        },
        "outputId": "8c80e276-1812-408d-a285-929a95c835ab"
      },
      "source": [
        "class_counts.plot.bar()"
      ],
      "execution_count": null,
      "outputs": [
        {
          "output_type": "execute_result",
          "data": {
            "text/plain": [
              "<matplotlib.axes._subplots.AxesSubplot at 0x7ff731cdc210>"
            ]
          },
          "metadata": {},
          "execution_count": 8
        },
        {
          "output_type": "display_data",
          "data": {
            "image/png": "[encoded data removed]",
            "text/plain": [
              "<Figure size 432x288 with 1 Axes>"
            ]
          },
          "metadata": {
            "needs_background": "light"
          }
        }
      ]
    },
    {
      "cell_type": "markdown",
      "metadata": {
        "id": "D2ST50hRJtaB"
      },
      "source": [
        "Instead of reporting counts, we can also report proportions or probabilities, or the **relative frequencies**. We can calculate the relative frequencies by specifying `normalize=True` in `.value_counts()`."
      ]
    },
    {
      "cell_type": "code",
      "metadata": {
        "id": "D-3JccgEJtaC",
        "colab": {
          "base_uri": "https://localhost:8080/"
        },
        "outputId": "ea11c2df-df96-4466-ec62-26572c4e1136"
      },
      "source": [
        "class_probs = df_titanic[\"class\"].value_counts(normalize=True)\n",
        "class_probs.sort_index()"
      ],
      "execution_count": null,
      "outputs": [
        {
          "output_type": "execute_result",
          "data": {
            "text/plain": [
              "1st                 0.146806\n",
              "2nd                 0.128681\n",
              "3rd                 0.321251\n",
              "deck crew           0.029905\n",
              "engineering crew    0.146806\n",
              "restaurant staff    0.031264\n",
              "victualling crew    0.195288\n",
              "Name: class, dtype: float64"
            ]
          },
          "metadata": {},
          "execution_count": 9
        }
      ]
    },
    {
      "cell_type": "markdown",
      "metadata": {
        "id": "g6EKTxBBJtaE"
      },
      "source": [
        "This is equivalent to taking the counts and dividing by their sum."
      ]
    },
    {
      "cell_type": "code",
      "metadata": {
        "id": "Z2X-cH0wJtaF",
        "colab": {
          "base_uri": "https://localhost:8080/"
        },
        "outputId": "9eca38e0-40bd-450d-c0e6-60512330f442"
      },
      "source": [
        "class_counts / class_counts.sum()"
      ],
      "execution_count": null,
      "outputs": [
        {
          "output_type": "execute_result",
          "data": {
            "text/plain": [
              "1st                 0.146806\n",
              "2nd                 0.128681\n",
              "3rd                 0.321251\n",
              "deck crew           0.029905\n",
              "engineering crew    0.146806\n",
              "restaurant staff    0.031264\n",
              "victualling crew    0.195288\n",
              "Name: class, dtype: float64"
            ]
          },
          "metadata": {},
          "execution_count": 10
        }
      ]
    },
    {
      "cell_type": "markdown",
      "metadata": {
        "id": "a5wGkd9AJtaH"
      },
      "source": [
        "Notice that the relative frequencies add up to 1.0, by construction. We can report these relative frequencies using probability notation. For example:\n",
        "\n",
        "$$ P(\\text{1st class}) = 0.146806. $$\n",
        "\n",
        "The complete collection of probabilities of all levels of a variable is called the **distribution** of that variable. So the code above calculates the distribution of \"class\" on the Titanic."
      ]
    },
    {
      "cell_type": "markdown",
      "metadata": {
        "id": "swUzbXFGJtaH"
      },
      "source": [
        "The bar chart for relative frequencies (i.e., probabilities) looks qualitatively the same as the bar chart for frequencies (i.e., counts). The only difference is that the scale on the $y$-axis is different."
      ]
    },
    {
      "cell_type": "code",
      "metadata": {
        "id": "LNEzMug6JtaI",
        "colab": {
          "base_uri": "https://localhost:8080/",
          "height": 359
        },
        "outputId": "17fdbd8a-10dd-484b-c7f1-aa15464abd7d"
      },
      "source": [
        "class_probs.sort_index().plot.bar()"
      ],
      "execution_count": null,
      "outputs": [
        {
          "output_type": "execute_result",
          "data": {
            "text/plain": [
              "<matplotlib.axes._subplots.AxesSubplot at 0x7ff731980050>"
            ]
          },
          "metadata": {},
          "execution_count": 11
        },
        {
          "output_type": "display_data",
          "data": {
            "image/png": "[encoded data removed]",
            "text/plain": [
              "<Figure size 432x288 with 1 Axes>"
            ]
          },
          "metadata": {
            "needs_background": "light"
          }
        }
      ]
    },
    {
      "cell_type": "markdown",
      "metadata": {
        "id": "T-aiM7OfJtaM"
      },
      "source": [
        "In the next lesson, we will see why it is often more useful to plot the relative frequencies (i.e., probabilities) rather than the frequencies (i.e., counts)."
      ]
    },
    {
      "cell_type": "markdown",
      "metadata": {
        "id": "O1R6vBYwJtaN"
      },
      "source": [
        "## Transforming Categorical Variables\n",
        "\n",
        "A categorical variable can be transformed by mapping its levels to new levels. For example, we may only be interested in whether a person on the titanic was a passenger or a crew member. The variable `class` is too detailed. We can create a new variable, `type`, that is derived from the existing variable `class`. Observations with a `class` of \"1st\", \"2nd\", or \"3rd\" get a value of \"passenger\", while observations with a `class` of \"deck crew\", \"engineering crew\", or \"deck crew\" get a value of \"crew\"."
      ]
    },
    {
      "cell_type": "code",
      "metadata": {
        "id": "gsA4gHKhJtaN",
        "colab": {
          "base_uri": "https://localhost:8080/",
          "height": 419
        },
        "outputId": "8f0d8eba-be41-48da-eaa0-8d35f904253c"
      },
      "source": [
        "df_titanic[\"type\"] = df_titanic[\"class\"].map({\n",
        "    \"1st\": \"passenger\",\n",
        "    \"2nd\": \"passenger\",\n",
        "    \"3rd\": \"passenger\",\n",
        "    \"victualling crew\": \"crew\",\n",
        "    \"engineering crew\": \"crew\",\n",
        "    \"deck crew\": \"crew\"\n",
        "})\n",
        "\n",
        "df_titanic"
      ],
      "execution_count": null,
      "outputs": [
        {
          "output_type": "execute_result",
          "data": {
            "text/html": [
              "\n",
              "  <div id=\"df-9118868e-bcca-4359-8b2f-523889ddf55c\">\n",
              "    <div class=\"colab-df-container\">\n",
              "      <div>\n",
              "<style scoped>\n",
              "    .dataframe tbody tr th:only-of-type {\n",
              "        vertical-align: middle;\n",
              "    }\n",
              "\n",
              "    .dataframe tbody tr th {\n",
              "        vertical-align: top;\n",
              "    }\n",
              "\n",
              "    .dataframe thead th {\n",
              "        text-align: right;\n",
              "    }\n",
              "</style>\n",
              "<table border=\"1\" class=\"dataframe\">\n",
              "  <thead>\n",
              "    <tr style=\"text-align: right;\">\n",
              "      <th></th>\n",
              "      <th>name</th>\n",
              "      <th>gender</th>\n",
              "      <th>age</th>\n",
              "      <th>class</th>\n",
              "      <th>embarked</th>\n",
              "      <th>country</th>\n",
              "      <th>ticketno</th>\n",
              "      <th>fare</th>\n",
              "      <th>survived</th>\n",
              "      <th>type</th>\n",
              "    </tr>\n",
              "  </thead>\n",
              "  <tbody>\n",
              "    <tr>\n",
              "      <th>0</th>\n",
              "      <td>Abbing, Mr. Anthony</td>\n",
              "      <td>male</td>\n",
              "      <td>42.0</td>\n",
              "      <td>3rd</td>\n",
              "      <td>S</td>\n",
              "      <td>United States</td>\n",
              "      <td>5547.0</td>\n",
              "      <td>7.11</td>\n",
              "      <td>0</td>\n",
              "      <td>passenger</td>\n",
              "    </tr>\n",
              "    <tr>\n",
              "      <th>1</th>\n",
              "      <td>Abbott, Mr. Eugene Joseph</td>\n",
              "      <td>male</td>\n",
              "      <td>13.0</td>\n",
              "      <td>3rd</td>\n",
              "      <td>S</td>\n",
              "      <td>United States</td>\n",
              "      <td>2673.0</td>\n",
              "      <td>20.05</td>\n",
              "      <td>0</td>\n",
              "      <td>passenger</td>\n",
              "    </tr>\n",
              "    <tr>\n",
              "      <th>2</th>\n",
              "      <td>Abbott, Mr. Rossmore Edward</td>\n",
              "      <td>male</td>\n",
              "      <td>16.0</td>\n",
              "      <td>3rd</td>\n",
              "      <td>S</td>\n",
              "      <td>United States</td>\n",
              "      <td>2673.0</td>\n",
              "      <td>20.05</td>\n",
              "      <td>0</td>\n",
              "      <td>passenger</td>\n",
              "    </tr>\n",
              "    <tr>\n",
              "      <th>3</th>\n",
              "      <td>Abbott, Mrs. Rhoda Mary 'Rosa'</td>\n",
              "      <td>female</td>\n",
              "      <td>39.0</td>\n",
              "      <td>3rd</td>\n",
              "      <td>S</td>\n",
              "      <td>England</td>\n",
              "      <td>2673.0</td>\n",
              "      <td>20.05</td>\n",
              "      <td>1</td>\n",
              "      <td>passenger</td>\n",
              "    </tr>\n",
              "    <tr>\n",
              "      <th>4</th>\n",
              "      <td>Abelseth, Miss. Karen Marie</td>\n",
              "      <td>female</td>\n",
              "      <td>16.0</td>\n",
              "      <td>3rd</td>\n",
              "      <td>S</td>\n",
              "      <td>Norway</td>\n",
              "      <td>348125.0</td>\n",
              "      <td>7.13</td>\n",
              "      <td>1</td>\n",
              "      <td>passenger</td>\n",
              "    </tr>\n",
              "    <tr>\n",
              "      <th>...</th>\n",
              "      <td>...</td>\n",
              "      <td>...</td>\n",
              "      <td>...</td>\n",
              "      <td>...</td>\n",
              "      <td>...</td>\n",
              "      <td>...</td>\n",
              "      <td>...</td>\n",
              "      <td>...</td>\n",
              "      <td>...</td>\n",
              "      <td>...</td>\n",
              "    </tr>\n",
              "    <tr>\n",
              "      <th>2202</th>\n",
              "      <td>Wynn, Mr. Walter</td>\n",
              "      <td>male</td>\n",
              "      <td>41.0</td>\n",
              "      <td>deck crew</td>\n",
              "      <td>B</td>\n",
              "      <td>England</td>\n",
              "      <td>NaN</td>\n",
              "      <td>NaN</td>\n",
              "      <td>1</td>\n",
              "      <td>crew</td>\n",
              "    </tr>\n",
              "    <tr>\n",
              "      <th>2203</th>\n",
              "      <td>Yearsley, Mr. Harry</td>\n",
              "      <td>male</td>\n",
              "      <td>40.0</td>\n",
              "      <td>victualling crew</td>\n",
              "      <td>S</td>\n",
              "      <td>England</td>\n",
              "      <td>NaN</td>\n",
              "      <td>NaN</td>\n",
              "      <td>1</td>\n",
              "      <td>crew</td>\n",
              "    </tr>\n",
              "    <tr>\n",
              "      <th>2204</th>\n",
              "      <td>Young, Mr. Francis James</td>\n",
              "      <td>male</td>\n",
              "      <td>32.0</td>\n",
              "      <td>engineering crew</td>\n",
              "      <td>S</td>\n",
              "      <td>England</td>\n",
              "      <td>NaN</td>\n",
              "      <td>NaN</td>\n",
              "      <td>0</td>\n",
              "      <td>crew</td>\n",
              "    </tr>\n",
              "    <tr>\n",
              "      <th>2205</th>\n",
              "      <td>Zanetti, Sig. Minio</td>\n",
              "      <td>male</td>\n",
              "      <td>20.0</td>\n",
              "      <td>restaurant staff</td>\n",
              "      <td>S</td>\n",
              "      <td>England</td>\n",
              "      <td>NaN</td>\n",
              "      <td>NaN</td>\n",
              "      <td>0</td>\n",
              "      <td>NaN</td>\n",
              "    </tr>\n",
              "    <tr>\n",
              "      <th>2206</th>\n",
              "      <td>Zarracchi, Sig. L.</td>\n",
              "      <td>male</td>\n",
              "      <td>26.0</td>\n",
              "      <td>restaurant staff</td>\n",
              "      <td>S</td>\n",
              "      <td>England</td>\n",
              "      <td>NaN</td>\n",
              "      <td>NaN</td>\n",
              "      <td>0</td>\n",
              "      <td>NaN</td>\n",
              "    </tr>\n",
              "  </tbody>\n",
              "</table>\n",
              "<p>2207 rows × 10 columns</p>\n",
              "</div>\n",
              "      <button class=\"colab-df-convert\" onclick=\"convertToInteractive('df-9118868e-bcca-4359-8b2f-523889ddf55c')\"\n",
              "              title=\"Convert this dataframe to an interactive table.\"\n",
              "              style=\"display:none;\">\n",
              "        \n",
              "  <svg xmlns=\"http://www.w3.org/2000/svg\" height=\"24px\"viewBox=\"0 0 24 24\"\n",
              "       width=\"24px\">\n",
              "    <path d=\"M0 0h24v24H0V0z\" fill=\"none\"/>\n",
              "    <path d=\"M18.56 5.44l.94 2.06.94-2.06 2.06-.94-2.06-.94-.94-2.06-.94 2.06-2.06.94zm-11 1L8.5 8.5l.94-2.06 2.06-.94-2.06-.94L8.5 2.5l-.94 2.06-2.06.94zm10 10l.94 2.06.94-2.06 2.06-.94-2.06-.94-.94-2.06-.94 2.06-2.06.94z\"/><path d=\"M17.41 7.96l-1.37-1.37c-.4-.4-.92-.59-1.43-.59-.52 0-1.04.2-1.43.59L10.3 9.45l-7.72 7.72c-.78.78-.78 2.05 0 2.83L4 21.41c.39.39.9.59 1.41.59.51 0 1.02-.2 1.41-.59l7.78-7.78 2.81-2.81c.8-.78.8-2.07 0-2.86zM5.41 20L4 18.59l7.72-7.72 1.47 1.35L5.41 20z\"/>\n",
              "  </svg>\n",
              "      </button>\n",
              "      \n",
              "  <style>\n",
              "    .colab-df-container {\n",
              "      display:flex;\n",
              "      flex-wrap:wrap;\n",
              "      gap: 12px;\n",
              "    }\n",
              "\n",
              "    .colab-df-convert {\n",
              "      background-color: #E8F0FE;\n",
              "      border: none;\n",
              "      border-radius: 50%;\n",
              "      cursor: pointer;\n",
              "      display: none;\n",
              "      fill: #1967D2;\n",
              "      height: 32px;\n",
              "      padding: 0 0 0 0;\n",
              "      width: 32px;\n",
              "    }\n",
              "\n",
              "    .colab-df-convert:hover {\n",
              "      background-color: #E2EBFA;\n",
              "      box-shadow: 0px 1px 2px rgba(60, 64, 67, 0.3), 0px 1px 3px 1px rgba(60, 64, 67, 0.15);\n",
              "      fill: #174EA6;\n",
              "    }\n",
              "\n",
              "    [theme=dark] .colab-df-convert {\n",
              "      background-color: #3B4455;\n",
              "      fill: #D2E3FC;\n",
              "    }\n",
              "\n",
              "    [theme=dark] .colab-df-convert:hover {\n",
              "      background-color: #434B5C;\n",
              "      box-shadow: 0px 1px 3px 1px rgba(0, 0, 0, 0.15);\n",
              "      filter: drop-shadow(0px 1px 2px rgba(0, 0, 0, 0.3));\n",
              "      fill: #FFFFFF;\n",
              "    }\n",
              "  </style>\n",
              "\n",
              "      <script>\n",
              "        const buttonEl =\n",
              "          document.querySelector('#df-9118868e-bcca-4359-8b2f-523889ddf55c button.colab-df-convert');\n",
              "        buttonEl.style.display =\n",
              "          google.colab.kernel.accessAllowed ? 'block' : 'none';\n",
              "\n",
              "        async function convertToInteractive(key) {\n",
              "          const element = document.querySelector('#df-9118868e-bcca-4359-8b2f-523889ddf55c');\n",
              "          const dataTable =\n",
              "            await google.colab.kernel.invokeFunction('convertToInteractive',\n",
              "                                                     [key], {});\n",
              "          if (!dataTable) return;\n",
              "\n",
              "          const docLinkHtml = 'Like what you see? Visit the ' +\n",
              "            '<a target=\"_blank\" href=https://colab.research.google.com/notebooks/data_table.ipynb>data table notebook</a>'\n",
              "            + ' to learn more about interactive tables.';\n",
              "          element.innerHTML = '';\n",
              "          dataTable['output_type'] = 'display_data';\n",
              "          await google.colab.output.renderOutput(dataTable, element);\n",
              "          const docLink = document.createElement('div');\n",
              "          docLink.innerHTML = docLinkHtml;\n",
              "          element.appendChild(docLink);\n",
              "        }\n",
              "      </script>\n",
              "    </div>\n",
              "  </div>\n",
              "  "
            ],
            "text/plain": [
              "                                name  gender   age  ...   fare survived       type\n",
              "0                Abbing, Mr. Anthony    male  42.0  ...   7.11        0  passenger\n",
              "1          Abbott, Mr. Eugene Joseph    male  13.0  ...  20.05        0  passenger\n",
              "2        Abbott, Mr. Rossmore Edward    male  16.0  ...  20.05        0  passenger\n",
              "3     Abbott, Mrs. Rhoda Mary 'Rosa'  female  39.0  ...  20.05        1  passenger\n",
              "4        Abelseth, Miss. Karen Marie  female  16.0  ...   7.13        1  passenger\n",
              "...                              ...     ...   ...  ...    ...      ...        ...\n",
              "2202                Wynn, Mr. Walter    male  41.0  ...    NaN        1       crew\n",
              "2203             Yearsley, Mr. Harry    male  40.0  ...    NaN        1       crew\n",
              "2204        Young, Mr. Francis James    male  32.0  ...    NaN        0       crew\n",
              "2205             Zanetti, Sig. Minio    male  20.0  ...    NaN        0        NaN\n",
              "2206              Zarracchi, Sig. L.    male  26.0  ...    NaN        0        NaN\n",
              "\n",
              "[2207 rows x 10 columns]"
            ]
          },
          "metadata": {},
          "execution_count": 12
        }
      ]
    },
    {
      "cell_type": "markdown",
      "metadata": {
        "id": "u082T2xbJtaP"
      },
      "source": [
        "Upon closer inspection of this `DataFrame`, we see that we accidentally left out the level \"restaurant staff\" in the input to `.map()`. Any levels that are unspecified will be mapped to the missing value `NaN`.\n",
        "\n",
        "This suggests a more concise way to define the new variable `type`. We can specify only the levels for passengers in the mapping and then fill in the missing values afterwards."
      ]
    },
    {
      "cell_type": "code",
      "metadata": {
        "id": "fL2fQ8O8JtaQ",
        "colab": {
          "base_uri": "https://localhost:8080/",
          "height": 419
        },
        "outputId": "25dc3fe9-35f4-4268-e20b-21b08db9ce5c"
      },
      "source": [
        "df_titanic[\"type\"] = df_titanic[\"class\"].map({\n",
        "    \"1st\": \"passenger\",\n",
        "    \"2nd\": \"passenger\",\n",
        "    \"3rd\": \"passenger\"\n",
        "})\n",
        "\n",
        "# Replace all missing values by \"crew\"\n",
        "df_titanic[\"type\"].fillna(\"crew\", inplace=True)\n",
        "\n",
        "df_titanic"
      ],
      "execution_count": null,
      "outputs": [
        {
          "output_type": "execute_result",
          "data": {
            "text/html": [
              "\n",
              "  <div id=\"df-910b8c44-ed51-4af7-b88d-f12bf419e8cb\">\n",
              "    <div class=\"colab-df-container\">\n",
              "      <div>\n",
              "<style scoped>\n",
              "    .dataframe tbody tr th:only-of-type {\n",
              "        vertical-align: middle;\n",
              "    }\n",
              "\n",
              "    .dataframe tbody tr th {\n",
              "        vertical-align: top;\n",
              "    }\n",
              "\n",
              "    .dataframe thead th {\n",
              "        text-align: right;\n",
              "    }\n",
              "</style>\n",
              "<table border=\"1\" class=\"dataframe\">\n",
              "  <thead>\n",
              "    <tr style=\"text-align: right;\">\n",
              "      <th></th>\n",
              "      <th>name</th>\n",
              "      <th>gender</th>\n",
              "      <th>age</th>\n",
              "      <th>class</th>\n",
              "      <th>embarked</th>\n",
              "      <th>country</th>\n",
              "      <th>ticketno</th>\n",
              "      <th>fare</th>\n",
              "      <th>survived</th>\n",
              "      <th>type</th>\n",
              "    </tr>\n",
              "  </thead>\n",
              "  <tbody>\n",
              "    <tr>\n",
              "      <th>0</th>\n",
              "      <td>Abbing, Mr. Anthony</td>\n",
              "      <td>male</td>\n",
              "      <td>42.0</td>\n",
              "      <td>3rd</td>\n",
              "      <td>S</td>\n",
              "      <td>United States</td>\n",
              "      <td>5547.0</td>\n",
              "      <td>7.11</td>\n",
              "      <td>0</td>\n",
              "      <td>passenger</td>\n",
              "    </tr>\n",
              "    <tr>\n",
              "      <th>1</th>\n",
              "      <td>Abbott, Mr. Eugene Joseph</td>\n",
              "      <td>male</td>\n",
              "      <td>13.0</td>\n",
              "      <td>3rd</td>\n",
              "      <td>S</td>\n",
              "      <td>United States</td>\n",
              "      <td>2673.0</td>\n",
              "      <td>20.05</td>\n",
              "      <td>0</td>\n",
              "      <td>passenger</td>\n",
              "    </tr>\n",
              "    <tr>\n",
              "      <th>2</th>\n",
              "      <td>Abbott, Mr. Rossmore Edward</td>\n",
              "      <td>male</td>\n",
              "      <td>16.0</td>\n",
              "      <td>3rd</td>\n",
              "      <td>S</td>\n",
              "      <td>United States</td>\n",
              "      <td>2673.0</td>\n",
              "      <td>20.05</td>\n",
              "      <td>0</td>\n",
              "      <td>passenger</td>\n",
              "    </tr>\n",
              "    <tr>\n",
              "      <th>3</th>\n",
              "      <td>Abbott, Mrs. Rhoda Mary 'Rosa'</td>\n",
              "      <td>female</td>\n",
              "      <td>39.0</td>\n",
              "      <td>3rd</td>\n",
              "      <td>S</td>\n",
              "      <td>England</td>\n",
              "      <td>2673.0</td>\n",
              "      <td>20.05</td>\n",
              "      <td>1</td>\n",
              "      <td>passenger</td>\n",
              "    </tr>\n",
              "    <tr>\n",
              "      <th>4</th>\n",
              "      <td>Abelseth, Miss. Karen Marie</td>\n",
              "      <td>female</td>\n",
              "      <td>16.0</td>\n",
              "      <td>3rd</td>\n",
              "      <td>S</td>\n",
              "      <td>Norway</td>\n",
              "      <td>348125.0</td>\n",
              "      <td>7.13</td>\n",
              "      <td>1</td>\n",
              "      <td>passenger</td>\n",
              "    </tr>\n",
              "    <tr>\n",
              "      <th>...</th>\n",
              "      <td>...</td>\n",
              "      <td>...</td>\n",
              "      <td>...</td>\n",
              "      <td>...</td>\n",
              "      <td>...</td>\n",
              "      <td>...</td>\n",
              "      <td>...</td>\n",
              "      <td>...</td>\n",
              "      <td>...</td>\n",
              "      <td>...</td>\n",
              "    </tr>\n",
              "    <tr>\n",
              "      <th>2202</th>\n",
              "      <td>Wynn, Mr. Walter</td>\n",
              "      <td>male</td>\n",
              "      <td>41.0</td>\n",
              "      <td>deck crew</td>\n",
              "      <td>B</td>\n",
              "      <td>England</td>\n",
              "      <td>NaN</td>\n",
              "      <td>NaN</td>\n",
              "      <td>1</td>\n",
              "      <td>crew</td>\n",
              "    </tr>\n",
              "    <tr>\n",
              "      <th>2203</th>\n",
              "      <td>Yearsley, Mr. Harry</td>\n",
              "      <td>male</td>\n",
              "      <td>40.0</td>\n",
              "      <td>victualling crew</td>\n",
              "      <td>S</td>\n",
              "      <td>England</td>\n",
              "      <td>NaN</td>\n",
              "      <td>NaN</td>\n",
              "      <td>1</td>\n",
              "      <td>crew</td>\n",
              "    </tr>\n",
              "    <tr>\n",
              "      <th>2204</th>\n",
              "      <td>Young, Mr. Francis James</td>\n",
              "      <td>male</td>\n",
              "      <td>32.0</td>\n",
              "      <td>engineering crew</td>\n",
              "      <td>S</td>\n",
              "      <td>England</td>\n",
              "      <td>NaN</td>\n",
              "      <td>NaN</td>\n",
              "      <td>0</td>\n",
              "      <td>crew</td>\n",
              "    </tr>\n",
              "    <tr>\n",
              "      <th>2205</th>\n",
              "      <td>Zanetti, Sig. Minio</td>\n",
              "      <td>male</td>\n",
              "      <td>20.0</td>\n",
              "      <td>restaurant staff</td>\n",
              "      <td>S</td>\n",
              "      <td>England</td>\n",
              "      <td>NaN</td>\n",
              "      <td>NaN</td>\n",
              "      <td>0</td>\n",
              "      <td>crew</td>\n",
              "    </tr>\n",
              "    <tr>\n",
              "      <th>2206</th>\n",
              "      <td>Zarracchi, Sig. L.</td>\n",
              "      <td>male</td>\n",
              "      <td>26.0</td>\n",
              "      <td>restaurant staff</td>\n",
              "      <td>S</td>\n",
              "      <td>England</td>\n",
              "      <td>NaN</td>\n",
              "      <td>NaN</td>\n",
              "      <td>0</td>\n",
              "      <td>crew</td>\n",
              "    </tr>\n",
              "  </tbody>\n",
              "</table>\n",
              "<p>2207 rows × 10 columns</p>\n",
              "</div>\n",
              "      <button class=\"colab-df-convert\" onclick=\"convertToInteractive('df-910b8c44-ed51-4af7-b88d-f12bf419e8cb')\"\n",
              "              title=\"Convert this dataframe to an interactive table.\"\n",
              "              style=\"display:none;\">\n",
              "        \n",
              "  <svg xmlns=\"http://www.w3.org/2000/svg\" height=\"24px\"viewBox=\"0 0 24 24\"\n",
              "       width=\"24px\">\n",
              "    <path d=\"M0 0h24v24H0V0z\" fill=\"none\"/>\n",
              "    <path d=\"M18.56 5.44l.94 2.06.94-2.06 2.06-.94-2.06-.94-.94-2.06-.94 2.06-2.06.94zm-11 1L8.5 8.5l.94-2.06 2.06-.94-2.06-.94L8.5 2.5l-.94 2.06-2.06.94zm10 10l.94 2.06.94-2.06 2.06-.94-2.06-.94-.94-2.06-.94 2.06-2.06.94z\"/><path d=\"M17.41 7.96l-1.37-1.37c-.4-.4-.92-.59-1.43-.59-.52 0-1.04.2-1.43.59L10.3 9.45l-7.72 7.72c-.78.78-.78 2.05 0 2.83L4 21.41c.39.39.9.59 1.41.59.51 0 1.02-.2 1.41-.59l7.78-7.78 2.81-2.81c.8-.78.8-2.07 0-2.86zM5.41 20L4 18.59l7.72-7.72 1.47 1.35L5.41 20z\"/>\n",
              "  </svg>\n",
              "      </button>\n",
              "      \n",
              "  <style>\n",
              "    .colab-df-container {\n",
              "      display:flex;\n",
              "      flex-wrap:wrap;\n",
              "      gap: 12px;\n",
              "    }\n",
              "\n",
              "    .colab-df-convert {\n",
              "      background-color: #E8F0FE;\n",
              "      border: none;\n",
              "      border-radius: 50%;\n",
              "      cursor: pointer;\n",
              "      display: none;\n",
              "      fill: #1967D2;\n",
              "      height: 32px;\n",
              "      padding: 0 0 0 0;\n",
              "      width: 32px;\n",
              "    }\n",
              "\n",
              "    .colab-df-convert:hover {\n",
              "      background-color: #E2EBFA;\n",
              "      box-shadow: 0px 1px 2px rgba(60, 64, 67, 0.3), 0px 1px 3px 1px rgba(60, 64, 67, 0.15);\n",
              "      fill: #174EA6;\n",
              "    }\n",
              "\n",
              "    [theme=dark] .colab-df-convert {\n",
              "      background-color: #3B4455;\n",
              "      fill: #D2E3FC;\n",
              "    }\n",
              "\n",
              "    [theme=dark] .colab-df-convert:hover {\n",
              "      background-color: #434B5C;\n",
              "      box-shadow: 0px 1px 3px 1px rgba(0, 0, 0, 0.15);\n",
              "      filter: drop-shadow(0px 1px 2px rgba(0, 0, 0, 0.3));\n",
              "      fill: #FFFFFF;\n",
              "    }\n",
              "  </style>\n",
              "\n",
              "      <script>\n",
              "        const buttonEl =\n",
              "          document.querySelector('#df-910b8c44-ed51-4af7-b88d-f12bf419e8cb button.colab-df-convert');\n",
              "        buttonEl.style.display =\n",
              "          google.colab.kernel.accessAllowed ? 'block' : 'none';\n",
              "\n",
              "        async function convertToInteractive(key) {\n",
              "          const element = document.querySelector('#df-910b8c44-ed51-4af7-b88d-f12bf419e8cb');\n",
              "          const dataTable =\n",
              "            await google.colab.kernel.invokeFunction('convertToInteractive',\n",
              "                                                     [key], {});\n",
              "          if (!dataTable) return;\n",
              "\n",
              "          const docLinkHtml = 'Like what you see? Visit the ' +\n",
              "            '<a target=\"_blank\" href=https://colab.research.google.com/notebooks/data_table.ipynb>data table notebook</a>'\n",
              "            + ' to learn more about interactive tables.';\n",
              "          element.innerHTML = '';\n",
              "          dataTable['output_type'] = 'display_data';\n",
              "          await google.colab.output.renderOutput(dataTable, element);\n",
              "          const docLink = document.createElement('div');\n",
              "          docLink.innerHTML = docLinkHtml;\n",
              "          element.appendChild(docLink);\n",
              "        }\n",
              "      </script>\n",
              "    </div>\n",
              "  </div>\n",
              "  "
            ],
            "text/plain": [
              "                                name  gender   age  ...   fare survived       type\n",
              "0                Abbing, Mr. Anthony    male  42.0  ...   7.11        0  passenger\n",
              "1          Abbott, Mr. Eugene Joseph    male  13.0  ...  20.05        0  passenger\n",
              "2        Abbott, Mr. Rossmore Edward    male  16.0  ...  20.05        0  passenger\n",
              "3     Abbott, Mrs. Rhoda Mary 'Rosa'  female  39.0  ...  20.05        1  passenger\n",
              "4        Abelseth, Miss. Karen Marie  female  16.0  ...   7.13        1  passenger\n",
              "...                              ...     ...   ...  ...    ...      ...        ...\n",
              "2202                Wynn, Mr. Walter    male  41.0  ...    NaN        1       crew\n",
              "2203             Yearsley, Mr. Harry    male  40.0  ...    NaN        1       crew\n",
              "2204        Young, Mr. Francis James    male  32.0  ...    NaN        0       crew\n",
              "2205             Zanetti, Sig. Minio    male  20.0  ...    NaN        0       crew\n",
              "2206              Zarracchi, Sig. L.    male  26.0  ...    NaN        0       crew\n",
              "\n",
              "[2207 rows x 10 columns]"
            ]
          },
          "metadata": {},
          "execution_count": 13
        }
      ]
    },
    {
      "cell_type": "markdown",
      "metadata": {
        "id": "scGxkqKfXVk-"
      },
      "source": [
        "For more complex mappings, the `.map()` method also accepts a function. So the above "
      ]
    },
    {
      "cell_type": "code",
      "metadata": {
        "id": "q2LwDPWMXsXH",
        "colab": {
          "base_uri": "https://localhost:8080/"
        },
        "outputId": "4e5fa412-d3b4-45b0-f0ae-b83b37bc81bf"
      },
      "source": [
        "def class_to_type(c):\n",
        "  if c in [\"1st\", \"2nd\", \"3rd\"]:\n",
        "    return \"passenger\"\n",
        "  else:\n",
        "    return \"crew\"\n",
        "\n",
        "df_titanic[\"class\"].map(class_to_type)"
      ],
      "execution_count": null,
      "outputs": [
        {
          "output_type": "execute_result",
          "data": {
            "text/plain": [
              "0       passenger\n",
              "1       passenger\n",
              "2       passenger\n",
              "3       passenger\n",
              "4       passenger\n",
              "          ...    \n",
              "2202         crew\n",
              "2203         crew\n",
              "2204         crew\n",
              "2205         crew\n",
              "2206         crew\n",
              "Name: class, Length: 2207, dtype: object"
            ]
          },
          "metadata": {},
          "execution_count": 14
        }
      ]
    },
    {
      "cell_type": "markdown",
      "metadata": {
        "id": "oNImjvbGJtaS"
      },
      "source": [
        "We can apply the techniques we learned above to calculate the _distribution_ of this new variable, which only has two levels."
      ]
    },
    {
      "cell_type": "code",
      "metadata": {
        "id": "TEGiAcFAJtaT",
        "colab": {
          "base_uri": "https://localhost:8080/"
        },
        "outputId": "10eaaa13-8e9c-47fc-8720-96dd83d77b02"
      },
      "source": [
        "df_titanic[\"type\"].value_counts(normalize=True)"
      ],
      "execution_count": null,
      "outputs": [
        {
          "output_type": "execute_result",
          "data": {
            "text/plain": [
              "passenger    0.596738\n",
              "crew         0.403262\n",
              "Name: type, dtype: float64"
            ]
          },
          "metadata": {},
          "execution_count": 15
        }
      ]
    },
    {
      "cell_type": "markdown",
      "metadata": {
        "id": "yF-G7EIXJtaV"
      },
      "source": [
        "## Conditional Probabilities\n",
        "\n",
        "What fraction of males were crew members? To answer questions like this, we have to filter the `DataFrame` to include only males.\n",
        "\n",
        "The standard way to filter a `DataFrame` is to use a **boolean mask**. A boolean mask is simply a `Series` of booleans whose index matches the index of the `DataFrame`.\n",
        "\n",
        "The easiest way to create a boolean mask is to use one of the standard comparison operators `==`, `<`, `>`, and `!=` on an existing column in the `DataFrame`. For example, the following code produces a boolean mask that is equal to `True` for the males on the Titanic and `False` otherwise."
      ]
    },
    {
      "cell_type": "code",
      "metadata": {
        "id": "LaR02lRMJtaW",
        "colab": {
          "base_uri": "https://localhost:8080/"
        },
        "outputId": "fbf0fe76-3456-47c8-a649-20c673f65a1f"
      },
      "source": [
        "df_titanic[\"gender\"] == \"male\""
      ],
      "execution_count": null,
      "outputs": [
        {
          "output_type": "execute_result",
          "data": {
            "text/plain": [
              "0        True\n",
              "1        True\n",
              "2        True\n",
              "3       False\n",
              "4       False\n",
              "        ...  \n",
              "2202     True\n",
              "2203     True\n",
              "2204     True\n",
              "2205     True\n",
              "2206     True\n",
              "Name: gender, Length: 2207, dtype: bool"
            ]
          },
          "metadata": {},
          "execution_count": 16
        }
      ]
    },
    {
      "cell_type": "markdown",
      "metadata": {
        "id": "fPlvq_-mJtad"
      },
      "source": [
        "Notice the subtle way the equality operator `==` is being used here! We are comparing an array with a string, i.e.,\n",
        "\n",
        "\\begin{align}\n",
        "& \\begin{bmatrix} \\text{\"male\"} \\\\ \\text{\"male\"} \\\\ \\text{\"male\"} \\\\ \\text{\"female\"} \\\\ \\vdots \\\\ \\text{\"male\"} \\end{bmatrix} & \\text{with} & & \\text{\"male\"}.\n",
        "\\end{align}\n",
        "\n",
        "In most programming languages, this comparison would make no sense. An array of strings is obviously not equal to a string. However, `pandas` automatically applies the equality operator to _each_ element of the array. As a result, we get an entire array (i.e., a `Series`) of booleans.\n",
        "\n",
        "\\begin{align}\n",
        " \\begin{bmatrix} \\text{\"male\"} \\\\ \\text{\"male\"} \\\\ \\text{\"male\"} \\\\ \\text{\"female\"} \\\\ \\vdots \\\\ \\text{\"male\"} \\end{bmatrix} &== \\text{\"male\"} &\\Longrightarrow & &  \\begin{bmatrix} \\text{True} \\\\ \\text{True} \\\\ \\text{True} \\\\ \\text{False} \\\\ \\vdots \\\\ \\text{True} \\end{bmatrix}.\n",
        "\\end{align}\n",
        "\n",
        "When an operation is applied to each element of an array, it is said to be **broadcast** over that array.\n",
        "\n",
        "Now, we can use the boolean mask as a filter on the `DataFrame` to extract the rows where the mask equals `True`."
      ]
    },
    {
      "cell_type": "code",
      "metadata": {
        "id": "1O6x3ZoZJtaf",
        "colab": {
          "base_uri": "https://localhost:8080/",
          "height": 419
        },
        "outputId": "2a84fad6-f7fa-47c2-bb2d-c8f64f24b73d"
      },
      "source": [
        "df_male = df_titanic[df_titanic[\"gender\"] == \"male\"]\n",
        "df_male"
      ],
      "execution_count": null,
      "outputs": [
        {
          "output_type": "execute_result",
          "data": {
            "text/html": [
              "\n",
              "  <div id=\"df-f0f2150d-c011-4841-b11a-4c315ebca3b5\">\n",
              "    <div class=\"colab-df-container\">\n",
              "      <div>\n",
              "<style scoped>\n",
              "    .dataframe tbody tr th:only-of-type {\n",
              "        vertical-align: middle;\n",
              "    }\n",
              "\n",
              "    .dataframe tbody tr th {\n",
              "        vertical-align: top;\n",
              "    }\n",
              "\n",
              "    .dataframe thead th {\n",
              "        text-align: right;\n",
              "    }\n",
              "</style>\n",
              "<table border=\"1\" class=\"dataframe\">\n",
              "  <thead>\n",
              "    <tr style=\"text-align: right;\">\n",
              "      <th></th>\n",
              "      <th>name</th>\n",
              "      <th>gender</th>\n",
              "      <th>age</th>\n",
              "      <th>class</th>\n",
              "      <th>embarked</th>\n",
              "      <th>country</th>\n",
              "      <th>ticketno</th>\n",
              "      <th>fare</th>\n",
              "      <th>survived</th>\n",
              "      <th>type</th>\n",
              "    </tr>\n",
              "  </thead>\n",
              "  <tbody>\n",
              "    <tr>\n",
              "      <th>0</th>\n",
              "      <td>Abbing, Mr. Anthony</td>\n",
              "      <td>male</td>\n",
              "      <td>42.0</td>\n",
              "      <td>3rd</td>\n",
              "      <td>S</td>\n",
              "      <td>United States</td>\n",
              "      <td>5547.0</td>\n",
              "      <td>7.11</td>\n",
              "      <td>0</td>\n",
              "      <td>passenger</td>\n",
              "    </tr>\n",
              "    <tr>\n",
              "      <th>1</th>\n",
              "      <td>Abbott, Mr. Eugene Joseph</td>\n",
              "      <td>male</td>\n",
              "      <td>13.0</td>\n",
              "      <td>3rd</td>\n",
              "      <td>S</td>\n",
              "      <td>United States</td>\n",
              "      <td>2673.0</td>\n",
              "      <td>20.05</td>\n",
              "      <td>0</td>\n",
              "      <td>passenger</td>\n",
              "    </tr>\n",
              "    <tr>\n",
              "      <th>2</th>\n",
              "      <td>Abbott, Mr. Rossmore Edward</td>\n",
              "      <td>male</td>\n",
              "      <td>16.0</td>\n",
              "      <td>3rd</td>\n",
              "      <td>S</td>\n",
              "      <td>United States</td>\n",
              "      <td>2673.0</td>\n",
              "      <td>20.05</td>\n",
              "      <td>0</td>\n",
              "      <td>passenger</td>\n",
              "    </tr>\n",
              "    <tr>\n",
              "      <th>5</th>\n",
              "      <td>Abelseth, Mr. Olaus Jørgensen</td>\n",
              "      <td>male</td>\n",
              "      <td>25.0</td>\n",
              "      <td>3rd</td>\n",
              "      <td>S</td>\n",
              "      <td>United States</td>\n",
              "      <td>348122.0</td>\n",
              "      <td>7.13</td>\n",
              "      <td>1</td>\n",
              "      <td>passenger</td>\n",
              "    </tr>\n",
              "    <tr>\n",
              "      <th>6</th>\n",
              "      <td>Abelson, Mr. Samuel</td>\n",
              "      <td>male</td>\n",
              "      <td>30.0</td>\n",
              "      <td>2nd</td>\n",
              "      <td>C</td>\n",
              "      <td>France</td>\n",
              "      <td>3381.0</td>\n",
              "      <td>24.00</td>\n",
              "      <td>0</td>\n",
              "      <td>passenger</td>\n",
              "    </tr>\n",
              "    <tr>\n",
              "      <th>...</th>\n",
              "      <td>...</td>\n",
              "      <td>...</td>\n",
              "      <td>...</td>\n",
              "      <td>...</td>\n",
              "      <td>...</td>\n",
              "      <td>...</td>\n",
              "      <td>...</td>\n",
              "      <td>...</td>\n",
              "      <td>...</td>\n",
              "      <td>...</td>\n",
              "    </tr>\n",
              "    <tr>\n",
              "      <th>2202</th>\n",
              "      <td>Wynn, Mr. Walter</td>\n",
              "      <td>male</td>\n",
              "      <td>41.0</td>\n",
              "      <td>deck crew</td>\n",
              "      <td>B</td>\n",
              "      <td>England</td>\n",
              "      <td>NaN</td>\n",
              "      <td>NaN</td>\n",
              "      <td>1</td>\n",
              "      <td>crew</td>\n",
              "    </tr>\n",
              "    <tr>\n",
              "      <th>2203</th>\n",
              "      <td>Yearsley, Mr. Harry</td>\n",
              "      <td>male</td>\n",
              "      <td>40.0</td>\n",
              "      <td>victualling crew</td>\n",
              "      <td>S</td>\n",
              "      <td>England</td>\n",
              "      <td>NaN</td>\n",
              "      <td>NaN</td>\n",
              "      <td>1</td>\n",
              "      <td>crew</td>\n",
              "    </tr>\n",
              "    <tr>\n",
              "      <th>2204</th>\n",
              "      <td>Young, Mr. Francis James</td>\n",
              "      <td>male</td>\n",
              "      <td>32.0</td>\n",
              "      <td>engineering crew</td>\n",
              "      <td>S</td>\n",
              "      <td>England</td>\n",
              "      <td>NaN</td>\n",
              "      <td>NaN</td>\n",
              "      <td>0</td>\n",
              "      <td>crew</td>\n",
              "    </tr>\n",
              "    <tr>\n",
              "      <th>2205</th>\n",
              "      <td>Zanetti, Sig. Minio</td>\n",
              "      <td>male</td>\n",
              "      <td>20.0</td>\n",
              "      <td>restaurant staff</td>\n",
              "      <td>S</td>\n",
              "      <td>England</td>\n",
              "      <td>NaN</td>\n",
              "      <td>NaN</td>\n",
              "      <td>0</td>\n",
              "      <td>crew</td>\n",
              "    </tr>\n",
              "    <tr>\n",
              "      <th>2206</th>\n",
              "      <td>Zarracchi, Sig. L.</td>\n",
              "      <td>male</td>\n",
              "      <td>26.0</td>\n",
              "      <td>restaurant staff</td>\n",
              "      <td>S</td>\n",
              "      <td>England</td>\n",
              "      <td>NaN</td>\n",
              "      <td>NaN</td>\n",
              "      <td>0</td>\n",
              "      <td>crew</td>\n",
              "    </tr>\n",
              "  </tbody>\n",
              "</table>\n",
              "<p>1718 rows × 10 columns</p>\n",
              "</div>\n",
              "      <button class=\"colab-df-convert\" onclick=\"convertToInteractive('df-f0f2150d-c011-4841-b11a-4c315ebca3b5')\"\n",
              "              title=\"Convert this dataframe to an interactive table.\"\n",
              "              style=\"display:none;\">\n",
              "        \n",
              "  <svg xmlns=\"http://www.w3.org/2000/svg\" height=\"24px\"viewBox=\"0 0 24 24\"\n",
              "       width=\"24px\">\n",
              "    <path d=\"M0 0h24v24H0V0z\" fill=\"none\"/>\n",
              "    <path d=\"M18.56 5.44l.94 2.06.94-2.06 2.06-.94-2.06-.94-.94-2.06-.94 2.06-2.06.94zm-11 1L8.5 8.5l.94-2.06 2.06-.94-2.06-.94L8.5 2.5l-.94 2.06-2.06.94zm10 10l.94 2.06.94-2.06 2.06-.94-2.06-.94-.94-2.06-.94 2.06-2.06.94z\"/><path d=\"M17.41 7.96l-1.37-1.37c-.4-.4-.92-.59-1.43-.59-.52 0-1.04.2-1.43.59L10.3 9.45l-7.72 7.72c-.78.78-.78 2.05 0 2.83L4 21.41c.39.39.9.59 1.41.59.51 0 1.02-.2 1.41-.59l7.78-7.78 2.81-2.81c.8-.78.8-2.07 0-2.86zM5.41 20L4 18.59l7.72-7.72 1.47 1.35L5.41 20z\"/>\n",
              "  </svg>\n",
              "      </button>\n",
              "      \n",
              "  <style>\n",
              "    .colab-df-container {\n",
              "      display:flex;\n",
              "      flex-wrap:wrap;\n",
              "      gap: 12px;\n",
              "    }\n",
              "\n",
              "    .colab-df-convert {\n",
              "      background-color: #E8F0FE;\n",
              "      border: none;\n",
              "      border-radius: 50%;\n",
              "      cursor: pointer;\n",
              "      display: none;\n",
              "      fill: #1967D2;\n",
              "      height: 32px;\n",
              "      padding: 0 0 0 0;\n",
              "      width: 32px;\n",
              "    }\n",
              "\n",
              "    .colab-df-convert:hover {\n",
              "      background-color: #E2EBFA;\n",
              "      box-shadow: 0px 1px 2px rgba(60, 64, 67, 0.3), 0px 1px 3px 1px rgba(60, 64, 67, 0.15);\n",
              "      fill: #174EA6;\n",
              "    }\n",
              "\n",
              "    [theme=dark] .colab-df-convert {\n",
              "      background-color: #3B4455;\n",
              "      fill: #D2E3FC;\n",
              "    }\n",
              "\n",
              "    [theme=dark] .colab-df-convert:hover {\n",
              "      background-color: #434B5C;\n",
              "      box-shadow: 0px 1px 3px 1px rgba(0, 0, 0, 0.15);\n",
              "      filter: drop-shadow(0px 1px 2px rgba(0, 0, 0, 0.3));\n",
              "      fill: #FFFFFF;\n",
              "    }\n",
              "  </style>\n",
              "\n",
              "      <script>\n",
              "        const buttonEl =\n",
              "          document.querySelector('#df-f0f2150d-c011-4841-b11a-4c315ebca3b5 button.colab-df-convert');\n",
              "        buttonEl.style.display =\n",
              "          google.colab.kernel.accessAllowed ? 'block' : 'none';\n",
              "\n",
              "        async function convertToInteractive(key) {\n",
              "          const element = document.querySelector('#df-f0f2150d-c011-4841-b11a-4c315ebca3b5');\n",
              "          const dataTable =\n",
              "            await google.colab.kernel.invokeFunction('convertToInteractive',\n",
              "                                                     [key], {});\n",
              "          if (!dataTable) return;\n",
              "\n",
              "          const docLinkHtml = 'Like what you see? Visit the ' +\n",
              "            '<a target=\"_blank\" href=https://colab.research.google.com/notebooks/data_table.ipynb>data table notebook</a>'\n",
              "            + ' to learn more about interactive tables.';\n",
              "          element.innerHTML = '';\n",
              "          dataTable['output_type'] = 'display_data';\n",
              "          await google.colab.output.renderOutput(dataTable, element);\n",
              "          const docLink = document.createElement('div');\n",
              "          docLink.innerHTML = docLinkHtml;\n",
              "          element.appendChild(docLink);\n",
              "        }\n",
              "      </script>\n",
              "    </div>\n",
              "  </div>\n",
              "  "
            ],
            "text/plain": [
              "                               name gender   age  ...   fare survived       type\n",
              "0               Abbing, Mr. Anthony   male  42.0  ...   7.11        0  passenger\n",
              "1         Abbott, Mr. Eugene Joseph   male  13.0  ...  20.05        0  passenger\n",
              "2       Abbott, Mr. Rossmore Edward   male  16.0  ...  20.05        0  passenger\n",
              "5     Abelseth, Mr. Olaus Jørgensen   male  25.0  ...   7.13        1  passenger\n",
              "6               Abelson, Mr. Samuel   male  30.0  ...  24.00        0  passenger\n",
              "...                             ...    ...   ...  ...    ...      ...        ...\n",
              "2202               Wynn, Mr. Walter   male  41.0  ...    NaN        1       crew\n",
              "2203            Yearsley, Mr. Harry   male  40.0  ...    NaN        1       crew\n",
              "2204       Young, Mr. Francis James   male  32.0  ...    NaN        0       crew\n",
              "2205            Zanetti, Sig. Minio   male  20.0  ...    NaN        0       crew\n",
              "2206             Zarracchi, Sig. L.   male  26.0  ...    NaN        0       crew\n",
              "\n",
              "[1718 rows x 10 columns]"
            ]
          },
          "metadata": {},
          "execution_count": 17
        }
      ]
    },
    {
      "cell_type": "markdown",
      "metadata": {
        "id": "1NXzBSg6Jtai"
      },
      "source": [
        "Note that every person in this new `DataFrame` is male. If you inspect the index, you will see that rows 4 and 5 are missing. That is because those passengers were female."
      ]
    },
    {
      "cell_type": "markdown",
      "metadata": {
        "id": "rj6sUAzlJtaj"
      },
      "source": [
        "Finally, we can apply the methods we've learned in this lesson to `df_male` to answer the original question: \"What fraction of males were crew members?\""
      ]
    },
    {
      "cell_type": "code",
      "metadata": {
        "id": "PL5AZdDCJtak",
        "colab": {
          "base_uri": "https://localhost:8080/"
        },
        "outputId": "7e60a724-1ec3-430d-94e9-3dfbf6ec1021"
      },
      "source": [
        "df_male[\"type\"].value_counts(normalize=True)"
      ],
      "execution_count": null,
      "outputs": [
        {
          "output_type": "execute_result",
          "data": {
            "text/plain": [
              "crew         0.504657\n",
              "passenger    0.495343\n",
              "Name: type, dtype: float64"
            ]
          },
          "metadata": {},
          "execution_count": 18
        }
      ]
    },
    {
      "cell_type": "markdown",
      "metadata": {
        "id": "h8JMRXKrJtam"
      },
      "source": [
        "It appears that about 50.4657% of the males were crew members. We can notate this using _conditional probability_ notation:\n",
        "\n",
        "$$ P(\\text{crew} | \\text{male}) = 0.504657. $$\n",
        "\n",
        "The bar $|$ is read as \"given\". The information after the bar is the given information. In this case, we were interested in the probability a person was a crew member, \"given\" they were male. That is, after restricting to the male passengers (i.e., using a boolean mask as a filter), we want to know the relative frequency of crew members."
      ]
    },
    {
      "cell_type": "markdown",
      "metadata": {
        "id": "ZGI7SaceJtam"
      },
      "source": [
        "We can also filter on multiple criteria. For example, if we want to know the fraction of male _survivors_ who were crew members, we need to combine two boolean masks, one based on the column `gender` and another based on the column `survived`. The two masks can be combined using the logical operator `&`."
      ]
    },
    {
      "cell_type": "code",
      "metadata": {
        "id": "5-OhXQDXJtan",
        "colab": {
          "base_uri": "https://localhost:8080/"
        },
        "outputId": "2b14ce15-9192-439b-ab52-6ee7e4c37753"
      },
      "source": [
        "(df_titanic[\"gender\"] == \"male\") & (df_titanic[\"survived\"] == 1)"
      ],
      "execution_count": null,
      "outputs": [
        {
          "output_type": "execute_result",
          "data": {
            "text/plain": [
              "0       False\n",
              "1       False\n",
              "2       False\n",
              "3       False\n",
              "4       False\n",
              "        ...  \n",
              "2202     True\n",
              "2203     True\n",
              "2204    False\n",
              "2205    False\n",
              "2206    False\n",
              "Length: 2207, dtype: bool"
            ]
          },
          "metadata": {},
          "execution_count": 19
        }
      ]
    },
    {
      "cell_type": "markdown",
      "metadata": {
        "id": "ygJIJbtOJtat"
      },
      "source": [
        "Notice that the logical operator was _broadcast_ (that word again!) over the elements of the two `Series`. In other words, the logical operator was applied to each element, producing a `Series` of booleans.\n",
        "\n",
        "Now we can use this new boolean mask to filter the `DataFrame`, just as we did before."
      ]
    },
    {
      "cell_type": "code",
      "metadata": {
        "id": "KdfY3t-wJtau",
        "colab": {
          "base_uri": "https://localhost:8080/",
          "height": 419
        },
        "outputId": "7e3098d6-7d3b-4ca8-f790-944e6439180f"
      },
      "source": [
        "df_male_survivors = df_titanic[(df_titanic[\"gender\"] == \"male\") & (df_titanic[\"survived\"] == 1)]\n",
        "df_male_survivors"
      ],
      "execution_count": null,
      "outputs": [
        {
          "output_type": "execute_result",
          "data": {
            "text/html": [
              "\n",
              "  <div id=\"df-bc1ac306-f115-48f6-becc-7932f00b9dc5\">\n",
              "    <div class=\"colab-df-container\">\n",
              "      <div>\n",
              "<style scoped>\n",
              "    .dataframe tbody tr th:only-of-type {\n",
              "        vertical-align: middle;\n",
              "    }\n",
              "\n",
              "    .dataframe tbody tr th {\n",
              "        vertical-align: top;\n",
              "    }\n",
              "\n",
              "    .dataframe thead th {\n",
              "        text-align: right;\n",
              "    }\n",
              "</style>\n",
              "<table border=\"1\" class=\"dataframe\">\n",
              "  <thead>\n",
              "    <tr style=\"text-align: right;\">\n",
              "      <th></th>\n",
              "      <th>name</th>\n",
              "      <th>gender</th>\n",
              "      <th>age</th>\n",
              "      <th>class</th>\n",
              "      <th>embarked</th>\n",
              "      <th>country</th>\n",
              "      <th>ticketno</th>\n",
              "      <th>fare</th>\n",
              "      <th>survived</th>\n",
              "      <th>type</th>\n",
              "    </tr>\n",
              "  </thead>\n",
              "  <tbody>\n",
              "    <tr>\n",
              "      <th>5</th>\n",
              "      <td>Abelseth, Mr. Olaus Jørgensen</td>\n",
              "      <td>male</td>\n",
              "      <td>25.000000</td>\n",
              "      <td>3rd</td>\n",
              "      <td>S</td>\n",
              "      <td>United States</td>\n",
              "      <td>348122.0</td>\n",
              "      <td>7.1300</td>\n",
              "      <td>1</td>\n",
              "      <td>passenger</td>\n",
              "    </tr>\n",
              "    <tr>\n",
              "      <th>8</th>\n",
              "      <td>Abī-Al-Munà, Mr. Nāsīf Qāsim</td>\n",
              "      <td>male</td>\n",
              "      <td>27.000000</td>\n",
              "      <td>3rd</td>\n",
              "      <td>C</td>\n",
              "      <td>Lebanon</td>\n",
              "      <td>2699.0</td>\n",
              "      <td>18.1509</td>\n",
              "      <td>1</td>\n",
              "      <td>passenger</td>\n",
              "    </tr>\n",
              "    <tr>\n",
              "      <th>9</th>\n",
              "      <td>Abrahamsson, Mr. Abraham August Johannes</td>\n",
              "      <td>male</td>\n",
              "      <td>20.000000</td>\n",
              "      <td>3rd</td>\n",
              "      <td>S</td>\n",
              "      <td>Finland</td>\n",
              "      <td>3101284.0</td>\n",
              "      <td>7.1806</td>\n",
              "      <td>1</td>\n",
              "      <td>passenger</td>\n",
              "    </tr>\n",
              "    <tr>\n",
              "      <th>13</th>\n",
              "      <td>Aks, Master. Frank Philip</td>\n",
              "      <td>male</td>\n",
              "      <td>0.833333</td>\n",
              "      <td>3rd</td>\n",
              "      <td>S</td>\n",
              "      <td>England</td>\n",
              "      <td>392091.0</td>\n",
              "      <td>9.0700</td>\n",
              "      <td>1</td>\n",
              "      <td>passenger</td>\n",
              "    </tr>\n",
              "    <tr>\n",
              "      <th>22</th>\n",
              "      <td>Allison, Master. Hudson Trevor</td>\n",
              "      <td>male</td>\n",
              "      <td>0.916667</td>\n",
              "      <td>1st</td>\n",
              "      <td>S</td>\n",
              "      <td>Canada</td>\n",
              "      <td>113781.0</td>\n",
              "      <td>151.1600</td>\n",
              "      <td>1</td>\n",
              "      <td>passenger</td>\n",
              "    </tr>\n",
              "    <tr>\n",
              "      <th>...</th>\n",
              "      <td>...</td>\n",
              "      <td>...</td>\n",
              "      <td>...</td>\n",
              "      <td>...</td>\n",
              "      <td>...</td>\n",
              "      <td>...</td>\n",
              "      <td>...</td>\n",
              "      <td>...</td>\n",
              "      <td>...</td>\n",
              "      <td>...</td>\n",
              "    </tr>\n",
              "    <tr>\n",
              "      <th>2185</th>\n",
              "      <td>Windebank, Mr. Alfred Edgar</td>\n",
              "      <td>male</td>\n",
              "      <td>38.000000</td>\n",
              "      <td>victualling crew</td>\n",
              "      <td>S</td>\n",
              "      <td>England</td>\n",
              "      <td>NaN</td>\n",
              "      <td>NaN</td>\n",
              "      <td>1</td>\n",
              "      <td>crew</td>\n",
              "    </tr>\n",
              "    <tr>\n",
              "      <th>2188</th>\n",
              "      <td>Witter, Mr. James William Cheetham</td>\n",
              "      <td>male</td>\n",
              "      <td>31.000000</td>\n",
              "      <td>victualling crew</td>\n",
              "      <td>S</td>\n",
              "      <td>England</td>\n",
              "      <td>NaN</td>\n",
              "      <td>NaN</td>\n",
              "      <td>1</td>\n",
              "      <td>crew</td>\n",
              "    </tr>\n",
              "    <tr>\n",
              "      <th>2200</th>\n",
              "      <td>Wright, Mr. William</td>\n",
              "      <td>male</td>\n",
              "      <td>40.000000</td>\n",
              "      <td>victualling crew</td>\n",
              "      <td>S</td>\n",
              "      <td>England</td>\n",
              "      <td>NaN</td>\n",
              "      <td>NaN</td>\n",
              "      <td>1</td>\n",
              "      <td>crew</td>\n",
              "    </tr>\n",
              "    <tr>\n",
              "      <th>2202</th>\n",
              "      <td>Wynn, Mr. Walter</td>\n",
              "      <td>male</td>\n",
              "      <td>41.000000</td>\n",
              "      <td>deck crew</td>\n",
              "      <td>B</td>\n",
              "      <td>England</td>\n",
              "      <td>NaN</td>\n",
              "      <td>NaN</td>\n",
              "      <td>1</td>\n",
              "      <td>crew</td>\n",
              "    </tr>\n",
              "    <tr>\n",
              "      <th>2203</th>\n",
              "      <td>Yearsley, Mr. Harry</td>\n",
              "      <td>male</td>\n",
              "      <td>40.000000</td>\n",
              "      <td>victualling crew</td>\n",
              "      <td>S</td>\n",
              "      <td>England</td>\n",
              "      <td>NaN</td>\n",
              "      <td>NaN</td>\n",
              "      <td>1</td>\n",
              "      <td>crew</td>\n",
              "    </tr>\n",
              "  </tbody>\n",
              "</table>\n",
              "<p>352 rows × 10 columns</p>\n",
              "</div>\n",
              "      <button class=\"colab-df-convert\" onclick=\"convertToInteractive('df-bc1ac306-f115-48f6-becc-7932f00b9dc5')\"\n",
              "              title=\"Convert this dataframe to an interactive table.\"\n",
              "              style=\"display:none;\">\n",
              "        \n",
              "  <svg xmlns=\"http://www.w3.org/2000/svg\" height=\"24px\"viewBox=\"0 0 24 24\"\n",
              "       width=\"24px\">\n",
              "    <path d=\"M0 0h24v24H0V0z\" fill=\"none\"/>\n",
              "    <path d=\"M18.56 5.44l.94 2.06.94-2.06 2.06-.94-2.06-.94-.94-2.06-.94 2.06-2.06.94zm-11 1L8.5 8.5l.94-2.06 2.06-.94-2.06-.94L8.5 2.5l-.94 2.06-2.06.94zm10 10l.94 2.06.94-2.06 2.06-.94-2.06-.94-.94-2.06-.94 2.06-2.06.94z\"/><path d=\"M17.41 7.96l-1.37-1.37c-.4-.4-.92-.59-1.43-.59-.52 0-1.04.2-1.43.59L10.3 9.45l-7.72 7.72c-.78.78-.78 2.05 0 2.83L4 21.41c.39.39.9.59 1.41.59.51 0 1.02-.2 1.41-.59l7.78-7.78 2.81-2.81c.8-.78.8-2.07 0-2.86zM5.41 20L4 18.59l7.72-7.72 1.47 1.35L5.41 20z\"/>\n",
              "  </svg>\n",
              "      </button>\n",
              "      \n",
              "  <style>\n",
              "    .colab-df-container {\n",
              "      display:flex;\n",
              "      flex-wrap:wrap;\n",
              "      gap: 12px;\n",
              "    }\n",
              "\n",
              "    .colab-df-convert {\n",
              "      background-color: #E8F0FE;\n",
              "      border: none;\n",
              "      border-radius: 50%;\n",
              "      cursor: pointer;\n",
              "      display: none;\n",
              "      fill: #1967D2;\n",
              "      height: 32px;\n",
              "      padding: 0 0 0 0;\n",
              "      width: 32px;\n",
              "    }\n",
              "\n",
              "    .colab-df-convert:hover {\n",
              "      background-color: #E2EBFA;\n",
              "      box-shadow: 0px 1px 2px rgba(60, 64, 67, 0.3), 0px 1px 3px 1px rgba(60, 64, 67, 0.15);\n",
              "      fill: #174EA6;\n",
              "    }\n",
              "\n",
              "    [theme=dark] .colab-df-convert {\n",
              "      background-color: #3B4455;\n",
              "      fill: #D2E3FC;\n",
              "    }\n",
              "\n",
              "    [theme=dark] .colab-df-convert:hover {\n",
              "      background-color: #434B5C;\n",
              "      box-shadow: 0px 1px 3px 1px rgba(0, 0, 0, 0.15);\n",
              "      filter: drop-shadow(0px 1px 2px rgba(0, 0, 0, 0.3));\n",
              "      fill: #FFFFFF;\n",
              "    }\n",
              "  </style>\n",
              "\n",
              "      <script>\n",
              "        const buttonEl =\n",
              "          document.querySelector('#df-bc1ac306-f115-48f6-becc-7932f00b9dc5 button.colab-df-convert');\n",
              "        buttonEl.style.display =\n",
              "          google.colab.kernel.accessAllowed ? 'block' : 'none';\n",
              "\n",
              "        async function convertToInteractive(key) {\n",
              "          const element = document.querySelector('#df-bc1ac306-f115-48f6-becc-7932f00b9dc5');\n",
              "          const dataTable =\n",
              "            await google.colab.kernel.invokeFunction('convertToInteractive',\n",
              "                                                     [key], {});\n",
              "          if (!dataTable) return;\n",
              "\n",
              "          const docLinkHtml = 'Like what you see? Visit the ' +\n",
              "            '<a target=\"_blank\" href=https://colab.research.google.com/notebooks/data_table.ipynb>data table notebook</a>'\n",
              "            + ' to learn more about interactive tables.';\n",
              "          element.innerHTML = '';\n",
              "          dataTable['output_type'] = 'display_data';\n",
              "          await google.colab.output.renderOutput(dataTable, element);\n",
              "          const docLink = document.createElement('div');\n",
              "          docLink.innerHTML = docLinkHtml;\n",
              "          element.appendChild(docLink);\n",
              "        }\n",
              "      </script>\n",
              "    </div>\n",
              "  </div>\n",
              "  "
            ],
            "text/plain": [
              "                                          name gender  ...  survived       type\n",
              "5                Abelseth, Mr. Olaus Jørgensen   male  ...         1  passenger\n",
              "8                 Abī-Al-Munà, Mr. Nāsīf Qāsim   male  ...         1  passenger\n",
              "9     Abrahamsson, Mr. Abraham August Johannes   male  ...         1  passenger\n",
              "13                   Aks, Master. Frank Philip   male  ...         1  passenger\n",
              "22              Allison, Master. Hudson Trevor   male  ...         1  passenger\n",
              "...                                        ...    ...  ...       ...        ...\n",
              "2185               Windebank, Mr. Alfred Edgar   male  ...         1       crew\n",
              "2188        Witter, Mr. James William Cheetham   male  ...         1       crew\n",
              "2200                       Wright, Mr. William   male  ...         1       crew\n",
              "2202                          Wynn, Mr. Walter   male  ...         1       crew\n",
              "2203                       Yearsley, Mr. Harry   male  ...         1       crew\n",
              "\n",
              "[352 rows x 10 columns]"
            ]
          },
          "metadata": {},
          "execution_count": 20
        }
      ]
    },
    {
      "cell_type": "markdown",
      "metadata": {
        "id": "xabQIG56Jtaw"
      },
      "source": [
        "Besides `&`, there are two other logical operators that can be used to modify and combine boolean masks.\n",
        "\n",
        "- `&` means \"and\"\n",
        "- `|` means \"or\"\n",
        "- `~` means \"not\"\n",
        "\n",
        "Like `&`, the operators `|` and `~` are broadcast over the boolean masks."
      ]
    },
    {
      "cell_type": "markdown",
      "metadata": {
        "id": "tbOe6iaWJtaw"
      },
      "source": [
        "## Exercises"
      ]
    },
    {
      "cell_type": "markdown",
      "metadata": {
        "id": "joCIoBDTJtax"
      },
      "source": [
        "_Exercises 1-2 ask you to continue working with the Titanic data set explored in this lesson._"
      ]
    },
    {
      "cell_type": "markdown",
      "metadata": {
        "id": "1GsCobcZJtax"
      },
      "source": [
        "1\\. What proportion of crew members were male? Express your answer using probability notation. How does this proportion differ from the proportion that was calculated in the lesson?"
      ]
    },
    {
      "cell_type": "markdown",
      "source": [
        "𝑃(crew|male) = 0.974157\n",
        "\n",
        "97.42% of crew members were male\n",
        "\n",
        "This proprotion differs from what was calculated in the lesson because I sorted for all the crew members and then calculated for the gender. The lesson sorted out all the males and then calculated by type."
      ],
      "metadata": {
        "id": "xBA6Su500S07"
      }
    },
    {
      "cell_type": "code",
      "source": [
        "df_crew = df_titanic[df_titanic[\"type\"] == \"crew\"]\n",
        "df_crew[\"gender\"].value_counts(normalize=True)"
      ],
      "metadata": {
        "colab": {
          "base_uri": "https://localhost:8080/"
        },
        "id": "iC3FslJEaluX",
        "outputId": "5d5bf827-9cfe-4db8-8f79-dc1891763127"
      },
      "execution_count": null,
      "outputs": [
        {
          "output_type": "execute_result",
          "data": {
            "text/plain": [
              "male      0.974157\n",
              "female    0.025843\n",
              "Name: gender, dtype: float64"
            ]
          },
          "metadata": {},
          "execution_count": 21
        }
      ]
    },
    {
      "cell_type": "markdown",
      "metadata": {
        "id": "YMb6xZ8-Jtay"
      },
      "source": [
        "2\\. What is the distribution of gender among passengers on the Titanic? What is the distribution of gender among passengers on the Titanic who survived? Express your answers using probability notation."
      ]
    },
    {
      "cell_type": "code",
      "source": [
        "df_pas = df_titanic[df_titanic[\"type\"] == \"passenger\"]\n",
        "\n",
        "df_pas[\"gender\"].value_counts(normalize=True)\n",
        "\n",
        "# 64.62% of passengers were male\n",
        "# 35.38% of passengers were female"
      ],
      "metadata": {
        "colab": {
          "base_uri": "https://localhost:8080/"
        },
        "id": "ZZ-1frNfYJQo",
        "outputId": "5c323269-c1c0-4b23-f829-fad8bad05e22"
      },
      "execution_count": null,
      "outputs": [
        {
          "output_type": "execute_result",
          "data": {
            "text/plain": [
              "male      0.646166\n",
              "female    0.353834\n",
              "Name: gender, dtype: float64"
            ]
          },
          "metadata": {},
          "execution_count": 22
        }
      ]
    },
    {
      "cell_type": "code",
      "source": [
        "df_pas = df_titanic[df_titanic[\"survived\"] == 1]\n",
        "\n",
        "df_pas[\"gender\"].value_counts(normalize=True)\n",
        "\n",
        "# 49.51% of passengers were male\n",
        "# 50.49% of passengers were female"
      ],
      "metadata": {
        "colab": {
          "base_uri": "https://localhost:8080/"
        },
        "id": "NEvb5hAkboSv",
        "outputId": "8c3812f7-0752-4ab3-c90e-2b92c859e4a1"
      },
      "execution_count": null,
      "outputs": [
        {
          "output_type": "execute_result",
          "data": {
            "text/plain": [
              "female    0.504923\n",
              "male      0.495077\n",
              "Name: gender, dtype: float64"
            ]
          },
          "metadata": {},
          "execution_count": 23
        }
      ]
    },
    {
      "cell_type": "markdown",
      "metadata": {
        "id": "QZ16JR0GJtaz"
      },
      "source": [
        "_Exercises 3-5 deal with the OKCupid data set, which consists of user profiles in the San Francisco Bay Area on the dating website OKCupid. This data set is available at the URL https://dlsun.github.io/pods/data/okcupid.csv._"
      ]
    },
    {
      "cell_type": "markdown",
      "metadata": {
        "id": "jSNtXGq1Jta0"
      },
      "source": [
        "3\\. Make a visualization of the distribution of drinking status."
      ]
    },
    {
      "cell_type": "code",
      "source": [
        "data_dir = \"http://dlsun.github.io/pods/data/\"\n",
        "df_cupid = pd.read_csv(data_dir + \"okcupid.csv\")\n",
        "\n",
        "drinks_counts = df_cupid[\"drinks\"].value_counts()\n",
        "drinks_counts.plot.bar()\n"
      ],
      "metadata": {
        "colab": {
          "base_uri": "https://localhost:8080/",
          "height": 331
        },
        "id": "E4ASsT0lctlA",
        "outputId": "96a49fb3-5f29-4144-a930-bec8859b35bb"
      },
      "execution_count": null,
      "outputs": [
        {
          "output_type": "execute_result",
          "data": {
            "text/plain": [
              "<matplotlib.axes._subplots.AxesSubplot at 0x7ff73101ab50>"
            ]
          },
          "metadata": {},
          "execution_count": 24
        },
        {
          "output_type": "display_data",
          "data": {
            "image/png": "[encoded data removed]",
            "text/plain": [
              "<Figure size 432x288 with 1 Axes>"
            ]
          },
          "metadata": {
            "needs_background": "light"
          }
        }
      ]
    },
    {
      "cell_type": "markdown",
      "metadata": {
        "id": "YuMsp3GLJta1"
      },
      "source": [
        "4\\. Create a new variable that indicates whether the user has, likes, or dislikes cats. Visualize the distribution of this variable."
      ]
    },
    {
      "cell_type": "code",
      "source": [
        "df_cupid.head()\n",
        "\n",
        "def cat_to_type(c):\n",
        "  if c in [\"likes cats\", \"likes dogs and likes cats\", \"has dogs and likes cats\", \"dislikes dogs and likes cats\", \"dislikes dogs and has cats\"]:\n",
        "    return \"likes cats\"\n",
        "  elif c in [\"dislikes cats\", \"likes dogs and dislikes cats\", \"has dogs and dislikes cats\", \"dislikes dogs and dislikes cats\"]:\n",
        "    return \"dislikes cats\"\n",
        "  elif c in [\"has cats\", \"likes dogs and has cats\", \"has dogs and has cats\", \"dislikes dogs and has cats\"]:\n",
        "    return \"has cats\"\n",
        "  else:\n",
        "    return \"Na\"\n",
        "\n",
        "df_cupid[\"cats\"] = df_cupid[\"pets\"].map(cat_to_type)\n",
        "\n",
        "cats_counts = df_cupid[\"cats\"].value_counts()\n",
        "cats_counts.plot.bar()\n",
        "\n",
        "\n"
      ],
      "metadata": {
        "colab": {
          "base_uri": "https://localhost:8080/",
          "height": 333
        },
        "id": "3ptuBIOJddWs",
        "outputId": "736e9f37-6761-404e-b1d6-a0e83293621a"
      },
      "execution_count": null,
      "outputs": [
        {
          "output_type": "execute_result",
          "data": {
            "text/plain": [
              "<matplotlib.axes._subplots.AxesSubplot at 0x7ff730f9a050>"
            ]
          },
          "metadata": {},
          "execution_count": 25
        },
        {
          "output_type": "display_data",
          "data": {
            "image/png": "[encoded data removed]",
            "text/plain": [
              "<Figure size 432x288 with 1 Axes>"
            ]
          },
          "metadata": {
            "needs_background": "light"
          }
        }
      ]
    },
    {
      "cell_type": "markdown",
      "metadata": {
        "id": "beEYGriXJta2"
      },
      "source": [
        "5\\. If you were a heterosexual female interested in dating a non-smoker, how many options would you have in this data set?"
      ]
    },
    {
      "cell_type": "code",
      "source": [
        "df_cupid.head()\n",
        "df_male_survivors = df_titanic[(df_titanic[\"gender\"] == \"male\") & (df_titanic[\"survived\"] == 1)]\n",
        "\n",
        "df_date = df_cupid[(df_cupid[\"orientation\"] == \"straight\") & (df_cupid[\"sex\"] == \"m\") & (df_cupid[\"smokes\"] == \"no\")]\n",
        "df_date\n",
        "\n",
        "# I would have 1107 options"
      ],
      "metadata": {
        "colab": {
          "base_uri": "https://localhost:8080/",
          "height": 1000
        },
        "id": "7Z6rHcIthT2d",
        "outputId": "f51d23f6-4367-45ca-9243-0f9aa0cba0e5"
      },
      "execution_count": null,
      "outputs": [
        {
          "output_type": "execute_result",
          "data": {
            "text/html": [
              "\n",
              "  <div id=\"df-16d8518e-3196-4aa2-993d-578c2be8da07\">\n",
              "    <div class=\"colab-df-container\">\n",
              "      <div>\n",
              "<style scoped>\n",
              "    .dataframe tbody tr th:only-of-type {\n",
              "        vertical-align: middle;\n",
              "    }\n",
              "\n",
              "    .dataframe tbody tr th {\n",
              "        vertical-align: top;\n",
              "    }\n",
              "\n",
              "    .dataframe thead th {\n",
              "        text-align: right;\n",
              "    }\n",
              "</style>\n",
              "<table border=\"1\" class=\"dataframe\">\n",
              "  <thead>\n",
              "    <tr style=\"text-align: right;\">\n",
              "      <th></th>\n",
              "      <th>age</th>\n",
              "      <th>body_type</th>\n",
              "      <th>diet</th>\n",
              "      <th>drinks</th>\n",
              "      <th>drugs</th>\n",
              "      <th>education</th>\n",
              "      <th>essay0</th>\n",
              "      <th>essay1</th>\n",
              "      <th>essay2</th>\n",
              "      <th>essay3</th>\n",
              "      <th>essay4</th>\n",
              "      <th>essay5</th>\n",
              "      <th>essay6</th>\n",
              "      <th>essay7</th>\n",
              "      <th>essay8</th>\n",
              "      <th>essay9</th>\n",
              "      <th>ethnicity</th>\n",
              "      <th>speaks</th>\n",
              "      <th>income</th>\n",
              "      <th>job</th>\n",
              "      <th>last_online</th>\n",
              "      <th>location</th>\n",
              "      <th>offspring</th>\n",
              "      <th>orientation</th>\n",
              "      <th>pets</th>\n",
              "      <th>religion</th>\n",
              "      <th>sex</th>\n",
              "      <th>sign</th>\n",
              "      <th>smokes</th>\n",
              "      <th>height</th>\n",
              "      <th>status</th>\n",
              "      <th>cats</th>\n",
              "    </tr>\n",
              "  </thead>\n",
              "  <tbody>\n",
              "    <tr>\n",
              "      <th>5</th>\n",
              "      <td>35</td>\n",
              "      <td>fit</td>\n",
              "      <td>mostly vegetarian</td>\n",
              "      <td>socially</td>\n",
              "      <td>never</td>\n",
              "      <td>graduated from college/university</td>\n",
              "      <td>i have lots of great friends and people in my ...</td>\n",
              "      <td>i do business development for a software company.</td>\n",
              "      <td>most things i try.</td>\n",
              "      <td>my eyes.</td>\n",
              "      <td>-too many to list, mostly non-fiction, current...</td>\n",
              "      <td>friends, family, bikes, a frisbee, travel, hon...</td>\n",
              "      <td>how to connect people.</td>\n",
              "      <td>doing something fun.</td>\n",
              "      <td>i'm a perfectionist.</td>\n",
              "      <td>if you want to meet someone with a lot to offe...</td>\n",
              "      <td>white</td>\n",
              "      <td>english (fluently), arabic (poorly), french (p...</td>\n",
              "      <td>150000</td>\n",
              "      <td>executive / management</td>\n",
              "      <td>2012-04-29-14-15</td>\n",
              "      <td>san francisco, california</td>\n",
              "      <td>NaN</td>\n",
              "      <td>straight</td>\n",
              "      <td>likes dogs and likes cats</td>\n",
              "      <td>other and somewhat serious about it</td>\n",
              "      <td>m</td>\n",
              "      <td>libra and it&amp;rsquo;s fun to think about</td>\n",
              "      <td>no</td>\n",
              "      <td>71.0</td>\n",
              "      <td>single</td>\n",
              "      <td>likes cats</td>\n",
              "    </tr>\n",
              "    <tr>\n",
              "      <th>12</th>\n",
              "      <td>23</td>\n",
              "      <td>average</td>\n",
              "      <td>NaN</td>\n",
              "      <td>not at all</td>\n",
              "      <td>never</td>\n",
              "      <td>working on college/university</td>\n",
              "      <td>i'm a mexican-american living in hayward,calif...</td>\n",
              "      <td>well i'm going to college playing some soccer(...</td>\n",
              "      <td>soccer, video games, drawing (well just a litt...</td>\n",
              "      <td>i'm a very shy person, but i do end up opening...</td>\n",
              "      <td>music: i pretty much like anything with distor...</td>\n",
              "      <td>internet, a car, mp3 player, clothes, food and...</td>\n",
              "      <td>my future</td>\n",
              "      <td>on the internet or just on the sofa watching s...</td>\n",
              "      <td>i still have a thing for kimberly the pink pow...</td>\n",
              "      <td>..something caught your eye.</td>\n",
              "      <td>hispanic / latin</td>\n",
              "      <td>english (fluently), spanish (fluently)</td>\n",
              "      <td>-1</td>\n",
              "      <td>student</td>\n",
              "      <td>2012-06-29-22-28</td>\n",
              "      <td>hayward, california</td>\n",
              "      <td>NaN</td>\n",
              "      <td>straight</td>\n",
              "      <td>likes dogs</td>\n",
              "      <td>catholicism but not too serious about it</td>\n",
              "      <td>m</td>\n",
              "      <td>NaN</td>\n",
              "      <td>no</td>\n",
              "      <td>69.0</td>\n",
              "      <td>single</td>\n",
              "      <td>Na</td>\n",
              "    </tr>\n",
              "    <tr>\n",
              "      <th>16</th>\n",
              "      <td>26</td>\n",
              "      <td>athletic</td>\n",
              "      <td>mostly vegetarian</td>\n",
              "      <td>socially</td>\n",
              "      <td>never</td>\n",
              "      <td>graduated from college/university</td>\n",
              "      <td>i grew up in the waters of northern california...</td>\n",
              "      <td>right now i work landscape construction which ...</td>\n",
              "      <td>creating art, surfing, swimming, or anything o...</td>\n",
              "      <td>my openness for new things</td>\n",
              "      <td>art and physics, visions into a parallel unive...</td>\n",
              "      <td>the ocean, strong women, yoga, surfing, my fam...</td>\n",
              "      <td>pure happiness</td>\n",
              "      <td>going to art shows/lectures or just hanging ou...</td>\n",
              "      <td>a woman with a beautiful singing voice is one ...</td>\n",
              "      <td>you enjoy exploring, meeting new people, surfi...</td>\n",
              "      <td>white</td>\n",
              "      <td>english</td>\n",
              "      <td>-1</td>\n",
              "      <td>artistic / musical / writer</td>\n",
              "      <td>2012-06-24-22-07</td>\n",
              "      <td>san anselmo, california</td>\n",
              "      <td>NaN</td>\n",
              "      <td>straight</td>\n",
              "      <td>NaN</td>\n",
              "      <td>other and laughing about it</td>\n",
              "      <td>m</td>\n",
              "      <td>leo</td>\n",
              "      <td>no</td>\n",
              "      <td>71.0</td>\n",
              "      <td>single</td>\n",
              "      <td>Na</td>\n",
              "    </tr>\n",
              "    <tr>\n",
              "      <th>17</th>\n",
              "      <td>25</td>\n",
              "      <td>fit</td>\n",
              "      <td>NaN</td>\n",
              "      <td>NaN</td>\n",
              "      <td>never</td>\n",
              "      <td>graduated from college/university</td>\n",
              "      <td>NaN</td>\n",
              "      <td>collecting a large amount of weird experiences</td>\n",
              "      <td>laughing, making people laugh i am not sure if...</td>\n",
              "      <td>my tattoos! i get a lot of comments of my slee...</td>\n",
              "      <td>shows; breaking bad, bored to death, beavis an...</td>\n",
              "      <td>1) my leather jacket- my love for it is simila...</td>\n",
              "      <td>myself unfortunately. i try to fill my life up...</td>\n",
              "      <td>i am either out and about causing trouble, dan...</td>\n",
              "      <td>i talk to satan through my neighbors dog</td>\n",
              "      <td>NaN</td>\n",
              "      <td>white</td>\n",
              "      <td>english</td>\n",
              "      <td>60000</td>\n",
              "      <td>sales / marketing / biz dev</td>\n",
              "      <td>2012-06-29-22-57</td>\n",
              "      <td>redwood city, california</td>\n",
              "      <td>doesn&amp;rsquo;t have kids, and doesn&amp;rsquo;t wan...</td>\n",
              "      <td>straight</td>\n",
              "      <td>NaN</td>\n",
              "      <td>NaN</td>\n",
              "      <td>m</td>\n",
              "      <td>leo but it doesn&amp;rsquo;t matter</td>\n",
              "      <td>no</td>\n",
              "      <td>75.0</td>\n",
              "      <td>single</td>\n",
              "      <td>Na</td>\n",
              "    </tr>\n",
              "    <tr>\n",
              "      <th>19</th>\n",
              "      <td>45</td>\n",
              "      <td>athletic</td>\n",
              "      <td>strictly other</td>\n",
              "      <td>rarely</td>\n",
              "      <td>never</td>\n",
              "      <td>graduated from college/university</td>\n",
              "      <td>i'm a widow...stuck with two beautiful teen ag...</td>\n",
              "      <td>raising my daughters..being a daily inspiratio...</td>\n",
              "      <td>first introductions...p.r. work...bringing out...</td>\n",
              "      <td>ooohhhh ...i'm going to be modest now!!! smile...</td>\n",
              "      <td>who let the dogs out??? lol..i'm just kidding....</td>\n",
              "      <td>god!!! the creator of the alpha and omega...an...</td>\n",
              "      <td>my future for both me and daughters...family, ...</td>\n",
              "      <td>friday out for coffee talk with my associates ...</td>\n",
              "      <td>is that grown men do cry...and real men love j...</td>\n",
              "      <td>leveled headed lady...who knows what she wants...</td>\n",
              "      <td>other</td>\n",
              "      <td>english, english, spanish, german, french</td>\n",
              "      <td>60000</td>\n",
              "      <td>sales / marketing / biz dev</td>\n",
              "      <td>2012-06-30-19-05</td>\n",
              "      <td>oakland, california</td>\n",
              "      <td>has kids</td>\n",
              "      <td>straight</td>\n",
              "      <td>has dogs</td>\n",
              "      <td>christianity and very serious about it</td>\n",
              "      <td>m</td>\n",
              "      <td>cancer and it&amp;rsquo;s fun to think about</td>\n",
              "      <td>no</td>\n",
              "      <td>69.0</td>\n",
              "      <td>single</td>\n",
              "      <td>Na</td>\n",
              "    </tr>\n",
              "    <tr>\n",
              "      <th>...</th>\n",
              "      <td>...</td>\n",
              "      <td>...</td>\n",
              "      <td>...</td>\n",
              "      <td>...</td>\n",
              "      <td>...</td>\n",
              "      <td>...</td>\n",
              "      <td>...</td>\n",
              "      <td>...</td>\n",
              "      <td>...</td>\n",
              "      <td>...</td>\n",
              "      <td>...</td>\n",
              "      <td>...</td>\n",
              "      <td>...</td>\n",
              "      <td>...</td>\n",
              "      <td>...</td>\n",
              "      <td>...</td>\n",
              "      <td>...</td>\n",
              "      <td>...</td>\n",
              "      <td>...</td>\n",
              "      <td>...</td>\n",
              "      <td>...</td>\n",
              "      <td>...</td>\n",
              "      <td>...</td>\n",
              "      <td>...</td>\n",
              "      <td>...</td>\n",
              "      <td>...</td>\n",
              "      <td>...</td>\n",
              "      <td>...</td>\n",
              "      <td>...</td>\n",
              "      <td>...</td>\n",
              "      <td>...</td>\n",
              "      <td>...</td>\n",
              "    </tr>\n",
              "    <tr>\n",
              "      <th>2981</th>\n",
              "      <td>31</td>\n",
              "      <td>fit</td>\n",
              "      <td>mostly anything</td>\n",
              "      <td>socially</td>\n",
              "      <td>sometimes</td>\n",
              "      <td>graduated from college/university</td>\n",
              "      <td>i'm a filmmaker, musician and teacher. i love ...</td>\n",
              "      <td>working, traveling, learning, meeting people, ...</td>\n",
              "      <td>i want to be really good at anything i do.</td>\n",
              "      <td>rugged good looks? no? it's probably my sense ...</td>\n",
              "      <td>i like reading non-fiction, i don't watch a wh...</td>\n",
              "      <td>air, water, shelter, clothing, heat and food.....</td>\n",
              "      <td>everything. since i freelance i have to juggle...</td>\n",
              "      <td>ok i have to be a bit nerdy, i have a pet bird...</td>\n",
              "      <td>you'll have to ask for that, no freebies here.</td>\n",
              "      <td>this part doesn't even make sense. message me ...</td>\n",
              "      <td>black</td>\n",
              "      <td>english (fluently)</td>\n",
              "      <td>40000</td>\n",
              "      <td>artistic / musical / writer</td>\n",
              "      <td>2012-03-28-23-31</td>\n",
              "      <td>san francisco, california</td>\n",
              "      <td>NaN</td>\n",
              "      <td>straight</td>\n",
              "      <td>likes dogs and likes cats</td>\n",
              "      <td>agnosticism but not too serious about it</td>\n",
              "      <td>m</td>\n",
              "      <td>virgo and it&amp;rsquo;s fun to think about</td>\n",
              "      <td>no</td>\n",
              "      <td>68.0</td>\n",
              "      <td>single</td>\n",
              "      <td>likes cats</td>\n",
              "    </tr>\n",
              "    <tr>\n",
              "      <th>2985</th>\n",
              "      <td>23</td>\n",
              "      <td>skinny</td>\n",
              "      <td>strictly anything</td>\n",
              "      <td>often</td>\n",
              "      <td>NaN</td>\n",
              "      <td>graduated from college/university</td>\n",
              "      <td>one-dimensional, easily relatable</td>\n",
              "      <td>just made the move to self-employment</td>\n",
              "      <td>NaN</td>\n",
              "      <td>\"basically a pretentious fuck\"</td>\n",
              "      <td>dan clowes comics and their film adaptations, ...</td>\n",
              "      <td>NaN</td>\n",
              "      <td>NaN</td>\n",
              "      <td>NaN</td>\n",
              "      <td>NaN</td>\n",
              "      <td>NaN</td>\n",
              "      <td>NaN</td>\n",
              "      <td>english (fluently), chinese (okay)</td>\n",
              "      <td>-1</td>\n",
              "      <td>NaN</td>\n",
              "      <td>2012-06-29-19-22</td>\n",
              "      <td>san francisco, california</td>\n",
              "      <td>NaN</td>\n",
              "      <td>straight</td>\n",
              "      <td>likes dogs and likes cats</td>\n",
              "      <td>atheism and laughing about it</td>\n",
              "      <td>m</td>\n",
              "      <td>capricorn and it matters a lot</td>\n",
              "      <td>no</td>\n",
              "      <td>68.0</td>\n",
              "      <td>single</td>\n",
              "      <td>likes cats</td>\n",
              "    </tr>\n",
              "    <tr>\n",
              "      <th>2992</th>\n",
              "      <td>40</td>\n",
              "      <td>athletic</td>\n",
              "      <td>strictly anything</td>\n",
              "      <td>socially</td>\n",
              "      <td>never</td>\n",
              "      <td>graduated from college/university</td>\n",
              "      <td>i'm pretty simple and happy go lucky. i like t...</td>\n",
              "      <td>my dream job would be matador. since that hasn...</td>\n",
              "      <td>traveling, playing hockey, running, taking ran...</td>\n",
              "      <td>i have all my teeth</td>\n",
              "      <td>lost in translation, romancing the stone, frid...</td>\n",
              "      <td>my friends, traveling, hockey, my ipod, tasty ...</td>\n",
              "      <td>traveling to far away land, getting lost in a ...</td>\n",
              "      <td>having drinkies with friends.</td>\n",
              "      <td>nice try</td>\n",
              "      <td>you are fun, sweet, cute and have a razor shar...</td>\n",
              "      <td>white</td>\n",
              "      <td>english</td>\n",
              "      <td>-1</td>\n",
              "      <td>sales / marketing / biz dev</td>\n",
              "      <td>2012-06-29-16-33</td>\n",
              "      <td>san francisco, california</td>\n",
              "      <td>NaN</td>\n",
              "      <td>straight</td>\n",
              "      <td>NaN</td>\n",
              "      <td>agnosticism and laughing about it</td>\n",
              "      <td>m</td>\n",
              "      <td>capricorn</td>\n",
              "      <td>no</td>\n",
              "      <td>68.0</td>\n",
              "      <td>single</td>\n",
              "      <td>Na</td>\n",
              "    </tr>\n",
              "    <tr>\n",
              "      <th>2994</th>\n",
              "      <td>48</td>\n",
              "      <td>fit</td>\n",
              "      <td>mostly vegetarian</td>\n",
              "      <td>socially</td>\n",
              "      <td>sometimes</td>\n",
              "      <td>graduated from college/university</td>\n",
              "      <td>NaN</td>\n",
              "      <td>NaN</td>\n",
              "      <td>NaN</td>\n",
              "      <td>NaN</td>\n",
              "      <td>NaN</td>\n",
              "      <td>NaN</td>\n",
              "      <td>NaN</td>\n",
              "      <td>NaN</td>\n",
              "      <td>NaN</td>\n",
              "      <td>NaN</td>\n",
              "      <td>white, other</td>\n",
              "      <td>english (fluently)</td>\n",
              "      <td>-1</td>\n",
              "      <td>computer / hardware / software</td>\n",
              "      <td>2012-06-19-12-00</td>\n",
              "      <td>san francisco, california</td>\n",
              "      <td>has a kid</td>\n",
              "      <td>straight</td>\n",
              "      <td>dislikes dogs and likes cats</td>\n",
              "      <td>buddhism but not too serious about it</td>\n",
              "      <td>m</td>\n",
              "      <td>taurus and it&amp;rsquo;s fun to think about</td>\n",
              "      <td>no</td>\n",
              "      <td>71.0</td>\n",
              "      <td>single</td>\n",
              "      <td>likes cats</td>\n",
              "    </tr>\n",
              "    <tr>\n",
              "      <th>2995</th>\n",
              "      <td>24</td>\n",
              "      <td>athletic</td>\n",
              "      <td>mostly anything</td>\n",
              "      <td>socially</td>\n",
              "      <td>sometimes</td>\n",
              "      <td>graduated from college/university</td>\n",
              "      <td>recent relocatee to san francisco. i'm writing...</td>\n",
              "      <td>cranking out two years of private equity so i ...</td>\n",
              "      <td>writing. criticizing. partying partying yeah.....</td>\n",
              "      <td>i've been described as 'all-american.' not sur...</td>\n",
              "      <td>i've read 14 kurt vonnegut books in the last y...</td>\n",
              "      <td>are just things. you can't take them with you...</td>\n",
              "      <td>if the meaning of life is 42 or 420 or somewhe...</td>\n",
              "      <td>chasing things: dreams, skirts, sobriety.</td>\n",
              "      <td>i answered none of the okc questions sarcastic...</td>\n",
              "      <td>you can woo a man with your vocabulary.</td>\n",
              "      <td>white</td>\n",
              "      <td>english</td>\n",
              "      <td>150000</td>\n",
              "      <td>banking / financial / real estate</td>\n",
              "      <td>2012-06-30-15-50</td>\n",
              "      <td>san francisco, california</td>\n",
              "      <td>NaN</td>\n",
              "      <td>straight</td>\n",
              "      <td>NaN</td>\n",
              "      <td>catholicism</td>\n",
              "      <td>m</td>\n",
              "      <td>NaN</td>\n",
              "      <td>no</td>\n",
              "      <td>70.0</td>\n",
              "      <td>single</td>\n",
              "      <td>Na</td>\n",
              "    </tr>\n",
              "  </tbody>\n",
              "</table>\n",
              "<p>1107 rows × 32 columns</p>\n",
              "</div>\n",
              "      <button class=\"colab-df-convert\" onclick=\"convertToInteractive('df-16d8518e-3196-4aa2-993d-578c2be8da07')\"\n",
              "              title=\"Convert this dataframe to an interactive table.\"\n",
              "              style=\"display:none;\">\n",
              "        \n",
              "  <svg xmlns=\"http://www.w3.org/2000/svg\" height=\"24px\"viewBox=\"0 0 24 24\"\n",
              "       width=\"24px\">\n",
              "    <path d=\"M0 0h24v24H0V0z\" fill=\"none\"/>\n",
              "    <path d=\"M18.56 5.44l.94 2.06.94-2.06 2.06-.94-2.06-.94-.94-2.06-.94 2.06-2.06.94zm-11 1L8.5 8.5l.94-2.06 2.06-.94-2.06-.94L8.5 2.5l-.94 2.06-2.06.94zm10 10l.94 2.06.94-2.06 2.06-.94-2.06-.94-.94-2.06-.94 2.06-2.06.94z\"/><path d=\"M17.41 7.96l-1.37-1.37c-.4-.4-.92-.59-1.43-.59-.52 0-1.04.2-1.43.59L10.3 9.45l-7.72 7.72c-.78.78-.78 2.05 0 2.83L4 21.41c.39.39.9.59 1.41.59.51 0 1.02-.2 1.41-.59l7.78-7.78 2.81-2.81c.8-.78.8-2.07 0-2.86zM5.41 20L4 18.59l7.72-7.72 1.47 1.35L5.41 20z\"/>\n",
              "  </svg>\n",
              "      </button>\n",
              "      \n",
              "  <style>\n",
              "    .colab-df-container {\n",
              "      display:flex;\n",
              "      flex-wrap:wrap;\n",
              "      gap: 12px;\n",
              "    }\n",
              "\n",
              "    .colab-df-convert {\n",
              "      background-color: #E8F0FE;\n",
              "      border: none;\n",
              "      border-radius: 50%;\n",
              "      cursor: pointer;\n",
              "      display: none;\n",
              "      fill: #1967D2;\n",
              "      height: 32px;\n",
              "      padding: 0 0 0 0;\n",
              "      width: 32px;\n",
              "    }\n",
              "\n",
              "    .colab-df-convert:hover {\n",
              "      background-color: #E2EBFA;\n",
              "      box-shadow: 0px 1px 2px rgba(60, 64, 67, 0.3), 0px 1px 3px 1px rgba(60, 64, 67, 0.15);\n",
              "      fill: #174EA6;\n",
              "    }\n",
              "\n",
              "    [theme=dark] .colab-df-convert {\n",
              "      background-color: #3B4455;\n",
              "      fill: #D2E3FC;\n",
              "    }\n",
              "\n",
              "    [theme=dark] .colab-df-convert:hover {\n",
              "      background-color: #434B5C;\n",
              "      box-shadow: 0px 1px 3px 1px rgba(0, 0, 0, 0.15);\n",
              "      filter: drop-shadow(0px 1px 2px rgba(0, 0, 0, 0.3));\n",
              "      fill: #FFFFFF;\n",
              "    }\n",
              "  </style>\n",
              "\n",
              "      <script>\n",
              "        const buttonEl =\n",
              "          document.querySelector('#df-16d8518e-3196-4aa2-993d-578c2be8da07 button.colab-df-convert');\n",
              "        buttonEl.style.display =\n",
              "          google.colab.kernel.accessAllowed ? 'block' : 'none';\n",
              "\n",
              "        async function convertToInteractive(key) {\n",
              "          const element = document.querySelector('#df-16d8518e-3196-4aa2-993d-578c2be8da07');\n",
              "          const dataTable =\n",
              "            await google.colab.kernel.invokeFunction('convertToInteractive',\n",
              "                                                     [key], {});\n",
              "          if (!dataTable) return;\n",
              "\n",
              "          const docLinkHtml = 'Like what you see? Visit the ' +\n",
              "            '<a target=\"_blank\" href=https://colab.research.google.com/notebooks/data_table.ipynb>data table notebook</a>'\n",
              "            + ' to learn more about interactive tables.';\n",
              "          element.innerHTML = '';\n",
              "          dataTable['output_type'] = 'display_data';\n",
              "          await google.colab.output.renderOutput(dataTable, element);\n",
              "          const docLink = document.createElement('div');\n",
              "          docLink.innerHTML = docLinkHtml;\n",
              "          element.appendChild(docLink);\n",
              "        }\n",
              "      </script>\n",
              "    </div>\n",
              "  </div>\n",
              "  "
            ],
            "text/plain": [
              "      age body_type               diet  ... height  status        cats\n",
              "5      35       fit  mostly vegetarian  ...   71.0  single  likes cats\n",
              "12     23   average                NaN  ...   69.0  single          Na\n",
              "16     26  athletic  mostly vegetarian  ...   71.0  single          Na\n",
              "17     25       fit                NaN  ...   75.0  single          Na\n",
              "19     45  athletic     strictly other  ...   69.0  single          Na\n",
              "...   ...       ...                ...  ...    ...     ...         ...\n",
              "2981   31       fit    mostly anything  ...   68.0  single  likes cats\n",
              "2985   23    skinny  strictly anything  ...   68.0  single  likes cats\n",
              "2992   40  athletic  strictly anything  ...   68.0  single          Na\n",
              "2994   48       fit  mostly vegetarian  ...   71.0  single  likes cats\n",
              "2995   24  athletic    mostly anything  ...   70.0  single          Na\n",
              "\n",
              "[1107 rows x 32 columns]"
            ]
          },
          "metadata": {},
          "execution_count": 26
        }
      ]
    }
  ]
}